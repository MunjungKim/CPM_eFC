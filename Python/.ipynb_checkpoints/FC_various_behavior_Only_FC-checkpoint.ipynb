{
 "cells": [
  {
   "cell_type": "markdown",
   "metadata": {},
   "source": [
    "# Predict various behavioral phenotype using Functional Connectivity"
   ]
  },
  {
   "cell_type": "markdown",
   "metadata": {},
   "source": [
    "#### only FC"
   ]
  },
  {
   "cell_type": "markdown",
   "metadata": {},
   "source": [
    "[cross validation](https://towardsdatascience.com/machine-learning-algorithms-part-14-cross-validation-and-ridge-regression-example-in-python-2d9e0c4de875)"
   ]
  },
  {
   "cell_type": "code",
   "execution_count": 24,
   "metadata": {
    "collapsed": false,
    "jupyter": {
     "outputs_hidden": false
    }
   },
   "outputs": [],
   "source": [
    "from sklearn.linear_model import LassoCV\n",
    "from sklearn.linear_model import RidgeCV\n",
    "from sklearn.linear_model import Ridge\n",
    "from sklearn.model_selection import GridSearchCV\n",
    "from sklearn.model_selection import cross_val_predict\n",
    "from sklearn.model_selection import cross_val_score \n",
    "from sklearn.model_selection import KFold\n",
    "from sklearn.model_selection import RepeatedKFold\n",
    "from sklearn.model_selection import PredefinedSplit\n",
    "from sklearn.feature_selection import SelectPercentile\n",
    "from sklearn.feature_selection import f_regression\n",
    "from sklearn.pipeline import Pipeline\n",
    "from sklearn import metrics\n",
    "from scipy import stats\n",
    "from sklearn.model_selection import train_test_split\n",
    "\n",
    "import numpy as np\n",
    "import scipy.io as sio\n",
    "import h5py\n",
    "import pandas as pd\n",
    "import time\n",
    "import CPM_TOTAL"
   ]
  },
  {
   "cell_type": "code",
   "execution_count": 3,
   "metadata": {},
   "outputs": [],
   "source": [
    "from tqdm import tqdm"
   ]
  },
  {
   "cell_type": "code",
   "execution_count": 4,
   "metadata": {},
   "outputs": [
    {
     "name": "stdout",
     "output_type": "stream",
     "text": [
      "/home/munj/edge-community-variability/notebooks/CPM/CPM/python\n"
     ]
    }
   ],
   "source": [
    "!pwd"
   ]
  },
  {
   "cell_type": "markdown",
   "metadata": {},
   "source": [
    "# Data"
   ]
  },
  {
   "cell_type": "markdown",
   "metadata": {},
   "source": [
    "subject list"
   ]
  },
  {
   "cell_type": "code",
   "execution_count": 5,
   "metadata": {},
   "outputs": [
    {
     "name": "stdout",
     "output_type": "stream",
     "text": [
      "The number of subj is 335\n"
     ]
    }
   ],
   "source": [
    "# subjects w/o nan value\n",
    "subjlist = np.load('/home/munj/edge-community-variability/data/200node_1200sub/restricted/subject_list_total_335.npy')\n",
    "print(\"The number of subj is\",len(subjlist))"
   ]
  },
  {
   "cell_type": "code",
   "execution_count": 6,
   "metadata": {
    "collapsed": false,
    "jupyter": {
     "outputs_hidden": false
    }
   },
   "outputs": [
    {
     "name": "stdout",
     "output_type": "stream",
     "text": [
      "(335, 19900)\n"
     ]
    }
   ],
   "source": [
    "FILE_PATH_FC = '../../../../data/200node_1200sub/2scan_restricted/fclist.npy'\n",
    "FILE_PATH_BEH = '../../../../data/cpm/behavioral_data.csv' #all raw behavior data\n",
    "\n",
    "fc_list = np.load(FILE_PATH_FC)\n",
    "beh_list = pd.read_csv(FILE_PATH_BEH)\n",
    "\n",
    "print(fc_list.shape)"
   ]
  },
  {
   "cell_type": "code",
   "execution_count": 7,
   "metadata": {},
   "outputs": [
    {
     "name": "stdout",
     "output_type": "stream",
     "text": [
      "All phenotypes\n",
      "================================\n",
      "SCPT_Compl\n",
      "MMSE_Score\n",
      "PSQI_Score\n",
      "PicSeq_Unadj\n",
      "CardSort_Unadj\n",
      "Flanker_Unadj\n",
      "PMAT24_A_CR\n",
      "ReadEng_Unadj\n",
      "PicVocab_Unadj\n",
      "ProcSpeed_Unadj\n",
      "DDisc_AUC_40K\n",
      "VSPLOT_TC\n",
      "SCPT_TP\n",
      "SCPT_TN\n",
      "SCPT_FP\n",
      "SCPT_FN\n",
      "SCPT_TPRT\n",
      "SCPT_SEN\n",
      "SCPT_SPEC\n",
      "SCPT_LRNR\n",
      "IWRD_TOT\n",
      "ListSort_Unadj\n",
      "ER40_CR\n",
      "ER40ANG\n",
      "ER40FEAR\n",
      "ER40HAP\n",
      "ER40NOE\n",
      "ER40SAD\n",
      "AngAffect_Unadj\n",
      "AngHostil_Unadj\n",
      "AngAggr_Unadj\n",
      "FearAffect_Unadj\n",
      "FearSomat_Unadj\n",
      "Sadness_Unadj\n",
      "LifeSatisf_Unadj\n",
      "MeanPurp_Unadj\n",
      "PosAffect_Unadj\n",
      "Friendship_Unadj\n",
      "Loneliness_Unadj\n",
      "PercHostil_Unadj\n",
      "PercReject_Unadj\n",
      "EmotSupp_Unadj\n",
      "InstruSupp_Unadj\n",
      "PercStress_Unadj\n",
      "SelfEff_Unadj\n",
      "Emotion_Task_Face_Acc\n",
      "Language_Task_Story_Avg_Difficulty_Level\n",
      "Language_Task_Math_Avg_Difficulty_Level\n",
      "Relational_Task_Acc\n",
      "Social_Task_Perc_Random\n",
      "Social_Task_Perc_TOM\n",
      "WM_Task_Acc\n",
      "Endurance_Unadj\n",
      "GaitSpeed_Comp\n",
      "Dexterity_Unadj\n",
      "Strength_Unadj\n",
      "NEOFAC_A\n",
      "NEOFAC_O\n",
      "NEOFAC_C\n",
      "NEOFAC_N\n",
      "NEOFAC_E\n",
      "Odor_Unadj\n",
      "PainInterf_Tscore\n",
      "Taste_Unadj\n",
      "Mars_Final\n"
     ]
    }
   ],
   "source": [
    "# phenotype\n",
    "print(\"All phenotypes\")\n",
    "print(\"================================\")\n",
    "\n",
    "for beh in beh_list.columns[2:]:\n",
    "    print(beh)"
   ]
  },
  {
   "cell_type": "code",
   "execution_count": 8,
   "metadata": {},
   "outputs": [],
   "source": [
    "beh_list=beh_list.drop(['SCPT_TPRT'],axis=1)"
   ]
  },
  {
   "cell_type": "code",
   "execution_count": 9,
   "metadata": {},
   "outputs": [
    {
     "data": {
      "text/html": [
       "<div>\n",
       "<style scoped>\n",
       "    .dataframe tbody tr th:only-of-type {\n",
       "        vertical-align: middle;\n",
       "    }\n",
       "\n",
       "    .dataframe tbody tr th {\n",
       "        vertical-align: top;\n",
       "    }\n",
       "\n",
       "    .dataframe thead th {\n",
       "        text-align: right;\n",
       "    }\n",
       "</style>\n",
       "<table border=\"1\" class=\"dataframe\">\n",
       "  <thead>\n",
       "    <tr style=\"text-align: right;\">\n",
       "      <th></th>\n",
       "      <th>Subject</th>\n",
       "      <th>Release</th>\n",
       "      <th>SCPT_Compl</th>\n",
       "      <th>MMSE_Score</th>\n",
       "      <th>PSQI_Score</th>\n",
       "      <th>PicSeq_Unadj</th>\n",
       "      <th>CardSort_Unadj</th>\n",
       "      <th>Flanker_Unadj</th>\n",
       "      <th>PMAT24_A_CR</th>\n",
       "      <th>ReadEng_Unadj</th>\n",
       "      <th>...</th>\n",
       "      <th>Strength_Unadj</th>\n",
       "      <th>NEOFAC_A</th>\n",
       "      <th>NEOFAC_O</th>\n",
       "      <th>NEOFAC_C</th>\n",
       "      <th>NEOFAC_N</th>\n",
       "      <th>NEOFAC_E</th>\n",
       "      <th>Odor_Unadj</th>\n",
       "      <th>PainInterf_Tscore</th>\n",
       "      <th>Taste_Unadj</th>\n",
       "      <th>Mars_Final</th>\n",
       "    </tr>\n",
       "  </thead>\n",
       "  <tbody>\n",
       "    <tr>\n",
       "      <th>0</th>\n",
       "      <td>100206</td>\n",
       "      <td>S900</td>\n",
       "      <td>True</td>\n",
       "      <td>30</td>\n",
       "      <td>6</td>\n",
       "      <td>125.07</td>\n",
       "      <td>119.14</td>\n",
       "      <td>130.42</td>\n",
       "      <td>20.0</td>\n",
       "      <td>113.54600</td>\n",
       "      <td>...</td>\n",
       "      <td>132.46</td>\n",
       "      <td>29.0</td>\n",
       "      <td>23.0</td>\n",
       "      <td>26.0</td>\n",
       "      <td>21.0</td>\n",
       "      <td>32.0</td>\n",
       "      <td>108.79</td>\n",
       "      <td>49.7</td>\n",
       "      <td>72.63</td>\n",
       "      <td>1.84</td>\n",
       "    </tr>\n",
       "    <tr>\n",
       "      <th>1</th>\n",
       "      <td>100307</td>\n",
       "      <td>Q1</td>\n",
       "      <td>True</td>\n",
       "      <td>29</td>\n",
       "      <td>4</td>\n",
       "      <td>110.61</td>\n",
       "      <td>123.75</td>\n",
       "      <td>112.56</td>\n",
       "      <td>17.0</td>\n",
       "      <td>111.07000</td>\n",
       "      <td>...</td>\n",
       "      <td>108.34</td>\n",
       "      <td>37.0</td>\n",
       "      <td>24.0</td>\n",
       "      <td>35.0</td>\n",
       "      <td>15.0</td>\n",
       "      <td>37.0</td>\n",
       "      <td>101.12</td>\n",
       "      <td>38.6</td>\n",
       "      <td>71.69</td>\n",
       "      <td>1.76</td>\n",
       "    </tr>\n",
       "    <tr>\n",
       "      <th>2</th>\n",
       "      <td>100408</td>\n",
       "      <td>Q3</td>\n",
       "      <td>True</td>\n",
       "      <td>30</td>\n",
       "      <td>4</td>\n",
       "      <td>125.71</td>\n",
       "      <td>111.14</td>\n",
       "      <td>121.18</td>\n",
       "      <td>7.0</td>\n",
       "      <td>131.81000</td>\n",
       "      <td>...</td>\n",
       "      <td>125.18</td>\n",
       "      <td>33.0</td>\n",
       "      <td>29.0</td>\n",
       "      <td>34.0</td>\n",
       "      <td>15.0</td>\n",
       "      <td>33.0</td>\n",
       "      <td>108.79</td>\n",
       "      <td>52.6</td>\n",
       "      <td>114.01</td>\n",
       "      <td>1.68</td>\n",
       "    </tr>\n",
       "    <tr>\n",
       "      <th>3</th>\n",
       "      <td>100610</td>\n",
       "      <td>S900</td>\n",
       "      <td>True</td>\n",
       "      <td>30</td>\n",
       "      <td>4</td>\n",
       "      <td>109.04</td>\n",
       "      <td>129.84</td>\n",
       "      <td>126.53</td>\n",
       "      <td>23.0</td>\n",
       "      <td>141.31660</td>\n",
       "      <td>...</td>\n",
       "      <td>123.16</td>\n",
       "      <td>31.0</td>\n",
       "      <td>33.0</td>\n",
       "      <td>36.0</td>\n",
       "      <td>7.0</td>\n",
       "      <td>15.0</td>\n",
       "      <td>122.25</td>\n",
       "      <td>38.6</td>\n",
       "      <td>84.84</td>\n",
       "      <td>1.88</td>\n",
       "    </tr>\n",
       "    <tr>\n",
       "      <th>4</th>\n",
       "      <td>101006</td>\n",
       "      <td>S500</td>\n",
       "      <td>True</td>\n",
       "      <td>28</td>\n",
       "      <td>2</td>\n",
       "      <td>84.68</td>\n",
       "      <td>105.19</td>\n",
       "      <td>101.85</td>\n",
       "      <td>11.0</td>\n",
       "      <td>113.53740</td>\n",
       "      <td>...</td>\n",
       "      <td>116.06</td>\n",
       "      <td>30.0</td>\n",
       "      <td>23.0</td>\n",
       "      <td>39.0</td>\n",
       "      <td>13.0</td>\n",
       "      <td>29.0</td>\n",
       "      <td>122.25</td>\n",
       "      <td>38.6</td>\n",
       "      <td>123.80</td>\n",
       "      <td>1.80</td>\n",
       "    </tr>\n",
       "    <tr>\n",
       "      <th>...</th>\n",
       "      <td>...</td>\n",
       "      <td>...</td>\n",
       "      <td>...</td>\n",
       "      <td>...</td>\n",
       "      <td>...</td>\n",
       "      <td>...</td>\n",
       "      <td>...</td>\n",
       "      <td>...</td>\n",
       "      <td>...</td>\n",
       "      <td>...</td>\n",
       "      <td>...</td>\n",
       "      <td>...</td>\n",
       "      <td>...</td>\n",
       "      <td>...</td>\n",
       "      <td>...</td>\n",
       "      <td>...</td>\n",
       "      <td>...</td>\n",
       "      <td>...</td>\n",
       "      <td>...</td>\n",
       "      <td>...</td>\n",
       "      <td>...</td>\n",
       "    </tr>\n",
       "    <tr>\n",
       "      <th>330</th>\n",
       "      <td>727553</td>\n",
       "      <td>S900</td>\n",
       "      <td>True</td>\n",
       "      <td>29</td>\n",
       "      <td>8</td>\n",
       "      <td>111.46</td>\n",
       "      <td>122.23</td>\n",
       "      <td>116.22</td>\n",
       "      <td>15.0</td>\n",
       "      <td>140.05600</td>\n",
       "      <td>...</td>\n",
       "      <td>105.28</td>\n",
       "      <td>30.0</td>\n",
       "      <td>36.0</td>\n",
       "      <td>23.0</td>\n",
       "      <td>21.0</td>\n",
       "      <td>35.0</td>\n",
       "      <td>122.25</td>\n",
       "      <td>38.6</td>\n",
       "      <td>108.17</td>\n",
       "      <td>1.84</td>\n",
       "    </tr>\n",
       "    <tr>\n",
       "      <th>331</th>\n",
       "      <td>749361</td>\n",
       "      <td>Q3</td>\n",
       "      <td>True</td>\n",
       "      <td>30</td>\n",
       "      <td>7</td>\n",
       "      <td>92.14</td>\n",
       "      <td>119.17</td>\n",
       "      <td>104.59</td>\n",
       "      <td>10.0</td>\n",
       "      <td>123.73000</td>\n",
       "      <td>...</td>\n",
       "      <td>100.67</td>\n",
       "      <td>38.0</td>\n",
       "      <td>30.0</td>\n",
       "      <td>26.0</td>\n",
       "      <td>20.0</td>\n",
       "      <td>23.0</td>\n",
       "      <td>101.12</td>\n",
       "      <td>50.1</td>\n",
       "      <td>88.02</td>\n",
       "      <td>1.68</td>\n",
       "    </tr>\n",
       "    <tr>\n",
       "      <th>332</th>\n",
       "      <td>757764</td>\n",
       "      <td>S1200</td>\n",
       "      <td>True</td>\n",
       "      <td>29</td>\n",
       "      <td>5</td>\n",
       "      <td>122.66</td>\n",
       "      <td>101.25</td>\n",
       "      <td>91.03</td>\n",
       "      <td>22.0</td>\n",
       "      <td>122.34950</td>\n",
       "      <td>...</td>\n",
       "      <td>112.92</td>\n",
       "      <td>29.0</td>\n",
       "      <td>32.0</td>\n",
       "      <td>31.0</td>\n",
       "      <td>15.0</td>\n",
       "      <td>20.0</td>\n",
       "      <td>122.25</td>\n",
       "      <td>46.6</td>\n",
       "      <td>90.63</td>\n",
       "      <td>1.88</td>\n",
       "    </tr>\n",
       "    <tr>\n",
       "      <th>333</th>\n",
       "      <td>835657</td>\n",
       "      <td>S900</td>\n",
       "      <td>True</td>\n",
       "      <td>26</td>\n",
       "      <td>6</td>\n",
       "      <td>107.51</td>\n",
       "      <td>107.62</td>\n",
       "      <td>104.82</td>\n",
       "      <td>16.0</td>\n",
       "      <td>97.46078</td>\n",
       "      <td>...</td>\n",
       "      <td>106.57</td>\n",
       "      <td>29.0</td>\n",
       "      <td>19.0</td>\n",
       "      <td>31.0</td>\n",
       "      <td>35.0</td>\n",
       "      <td>30.0</td>\n",
       "      <td>108.79</td>\n",
       "      <td>57.7</td>\n",
       "      <td>93.34</td>\n",
       "      <td>1.92</td>\n",
       "    </tr>\n",
       "    <tr>\n",
       "      <th>334</th>\n",
       "      <td>837560</td>\n",
       "      <td>S500</td>\n",
       "      <td>True</td>\n",
       "      <td>29</td>\n",
       "      <td>9</td>\n",
       "      <td>102.77</td>\n",
       "      <td>115.48</td>\n",
       "      <td>122.95</td>\n",
       "      <td>12.0</td>\n",
       "      <td>111.30000</td>\n",
       "      <td>...</td>\n",
       "      <td>131.21</td>\n",
       "      <td>25.0</td>\n",
       "      <td>28.0</td>\n",
       "      <td>29.0</td>\n",
       "      <td>27.0</td>\n",
       "      <td>27.0</td>\n",
       "      <td>108.79</td>\n",
       "      <td>50.3</td>\n",
       "      <td>116.75</td>\n",
       "      <td>1.76</td>\n",
       "    </tr>\n",
       "  </tbody>\n",
       "</table>\n",
       "<p>335 rows × 66 columns</p>\n",
       "</div>"
      ],
      "text/plain": [
       "     Subject Release  SCPT_Compl  MMSE_Score  PSQI_Score  PicSeq_Unadj  \\\n",
       "0     100206    S900        True          30           6        125.07   \n",
       "1     100307      Q1        True          29           4        110.61   \n",
       "2     100408      Q3        True          30           4        125.71   \n",
       "3     100610    S900        True          30           4        109.04   \n",
       "4     101006    S500        True          28           2         84.68   \n",
       "..       ...     ...         ...         ...         ...           ...   \n",
       "330   727553    S900        True          29           8        111.46   \n",
       "331   749361      Q3        True          30           7         92.14   \n",
       "332   757764   S1200        True          29           5        122.66   \n",
       "333   835657    S900        True          26           6        107.51   \n",
       "334   837560    S500        True          29           9        102.77   \n",
       "\n",
       "     CardSort_Unadj  Flanker_Unadj  PMAT24_A_CR  ReadEng_Unadj  ...  \\\n",
       "0            119.14         130.42         20.0      113.54600  ...   \n",
       "1            123.75         112.56         17.0      111.07000  ...   \n",
       "2            111.14         121.18          7.0      131.81000  ...   \n",
       "3            129.84         126.53         23.0      141.31660  ...   \n",
       "4            105.19         101.85         11.0      113.53740  ...   \n",
       "..              ...            ...          ...            ...  ...   \n",
       "330          122.23         116.22         15.0      140.05600  ...   \n",
       "331          119.17         104.59         10.0      123.73000  ...   \n",
       "332          101.25          91.03         22.0      122.34950  ...   \n",
       "333          107.62         104.82         16.0       97.46078  ...   \n",
       "334          115.48         122.95         12.0      111.30000  ...   \n",
       "\n",
       "     Strength_Unadj  NEOFAC_A  NEOFAC_O  NEOFAC_C  NEOFAC_N  NEOFAC_E  \\\n",
       "0            132.46      29.0      23.0      26.0      21.0      32.0   \n",
       "1            108.34      37.0      24.0      35.0      15.0      37.0   \n",
       "2            125.18      33.0      29.0      34.0      15.0      33.0   \n",
       "3            123.16      31.0      33.0      36.0       7.0      15.0   \n",
       "4            116.06      30.0      23.0      39.0      13.0      29.0   \n",
       "..              ...       ...       ...       ...       ...       ...   \n",
       "330          105.28      30.0      36.0      23.0      21.0      35.0   \n",
       "331          100.67      38.0      30.0      26.0      20.0      23.0   \n",
       "332          112.92      29.0      32.0      31.0      15.0      20.0   \n",
       "333          106.57      29.0      19.0      31.0      35.0      30.0   \n",
       "334          131.21      25.0      28.0      29.0      27.0      27.0   \n",
       "\n",
       "     Odor_Unadj  PainInterf_Tscore  Taste_Unadj  Mars_Final  \n",
       "0        108.79               49.7        72.63        1.84  \n",
       "1        101.12               38.6        71.69        1.76  \n",
       "2        108.79               52.6       114.01        1.68  \n",
       "3        122.25               38.6        84.84        1.88  \n",
       "4        122.25               38.6       123.80        1.80  \n",
       "..          ...                ...          ...         ...  \n",
       "330      122.25               38.6       108.17        1.84  \n",
       "331      101.12               50.1        88.02        1.68  \n",
       "332      122.25               46.6        90.63        1.88  \n",
       "333      108.79               57.7        93.34        1.92  \n",
       "334      108.79               50.3       116.75        1.76  \n",
       "\n",
       "[335 rows x 66 columns]"
      ]
     },
     "execution_count": 9,
     "metadata": {},
     "output_type": "execute_result"
    }
   ],
   "source": [
    "beh_list"
   ]
  },
  {
   "cell_type": "code",
   "execution_count": 10,
   "metadata": {},
   "outputs": [],
   "source": [
    "pheno_normalized_scpt = (beh_list['SCPT_TP']+beh_list['SCPT_TN'])/(beh_list['SCPT_TP']+beh_list['SCPT_TN']+beh_list['SCPT_FP']+beh_list['SCPT_FN'])"
   ]
  },
  {
   "cell_type": "code",
   "execution_count": 11,
   "metadata": {},
   "outputs": [],
   "source": [
    "pheno_pmat_fluid = beh_list['PMAT24_A_CR']"
   ]
  },
  {
   "cell_type": "code",
   "execution_count": 12,
   "metadata": {},
   "outputs": [],
   "source": [
    "kf = KFold(n_splits=6)\n",
    "cv_list_train = []\n",
    "cv_list_test = []\n",
    "for train, test in kf.split(subjlist):\n",
    "    cv_list_train.append(train)\n",
    "    cv_list_test.append(test)"
   ]
  },
  {
   "cell_type": "code",
   "execution_count": 13,
   "metadata": {},
   "outputs": [
    {
     "name": "stdout",
     "output_type": "stream",
     "text": [
      "6 fold\n",
      "The number of each training data is 279\n"
     ]
    }
   ],
   "source": [
    "print(len(cv_list_train),\"fold\")\n",
    "print(\"The number of each training data is\",len(cv_list_train[0]))"
   ]
  },
  {
   "cell_type": "code",
   "execution_count": 14,
   "metadata": {},
   "outputs": [
    {
     "data": {
      "text/plain": [
       "0    58.0\n",
       "1    59.0\n",
       "Name: SCPT_TP, dtype: float64"
      ]
     },
     "execution_count": 14,
     "metadata": {},
     "output_type": "execute_result"
    }
   ],
   "source": [
    "beh_list['SCPT_TP'][[0,1]]"
   ]
  },
  {
   "cell_type": "markdown",
   "metadata": {},
   "source": [
    "# Result"
   ]
  },
  {
   "cell_type": "code",
   "execution_count": 20,
   "metadata": {
    "collapsed": true,
    "jupyter": {
     "outputs_hidden": true
    }
   },
   "outputs": [
    {
     "name": "stderr",
     "output_type": "stream",
     "text": [
      "  2%|▏         | 1/63 [00:12<12:52, 12.47s/it]"
     ]
    },
    {
     "name": "stdout",
     "output_type": "stream",
     "text": [
      "MMSE_Score (-0.10006114910828756, 0.06737453172179744) (0.04275396247629937, 0.43541571552576674)\n"
     ]
    },
    {
     "name": "stderr",
     "output_type": "stream",
     "text": [
      "  3%|▎         | 2/63 [00:25<12:50, 12.62s/it]"
     ]
    },
    {
     "name": "stdout",
     "output_type": "stream",
     "text": [
      "PSQI_Score (0.08611783465123199, 0.11566149049129633) (0.09843936817624153, 0.0719594760877412)\n"
     ]
    },
    {
     "name": "stderr",
     "output_type": "stream",
     "text": [
      "  5%|▍         | 3/63 [00:37<12:30, 12.51s/it]"
     ]
    },
    {
     "name": "stdout",
     "output_type": "stream",
     "text": [
      "PicSeq_Unadj (0.19535649170675465, 0.0003219535632403073) (0.1774600393599139, 0.001106921862883344)\n"
     ]
    },
    {
     "name": "stderr",
     "output_type": "stream",
     "text": [
      "  6%|▋         | 4/63 [00:49<12:10, 12.38s/it]"
     ]
    },
    {
     "name": "stdout",
     "output_type": "stream",
     "text": [
      "CardSort_Unadj (0.11270631460511552, 0.03923371451067278) (0.21261365640076624, 8.786983810469718e-05)\n"
     ]
    },
    {
     "name": "stderr",
     "output_type": "stream",
     "text": [
      "  8%|▊         | 5/63 [01:00<11:35, 11.99s/it]"
     ]
    },
    {
     "name": "stdout",
     "output_type": "stream",
     "text": [
      "Flanker_Unadj (-0.033027461698311916, 0.546903459041864) (-0.047578030332235496, 0.3853627418782897)\n"
     ]
    },
    {
     "name": "stderr",
     "output_type": "stream",
     "text": [
      " 10%|▉         | 6/63 [01:13<11:30, 12.12s/it]"
     ]
    },
    {
     "name": "stdout",
     "output_type": "stream",
     "text": [
      "PMAT24_A_CR (0.17769300438872254, 0.0010900509830891636) (0.22774953510071352, 2.57236585155578e-05)\n"
     ]
    },
    {
     "name": "stderr",
     "output_type": "stream",
     "text": [
      " 11%|█         | 7/63 [01:25<11:23, 12.20s/it]"
     ]
    },
    {
     "name": "stdout",
     "output_type": "stream",
     "text": [
      "ReadEng_Unadj (0.20755641786705498, 0.00013000034307874308) (0.2784007972028177, 2.227482618502023e-07)\n"
     ]
    },
    {
     "name": "stderr",
     "output_type": "stream",
     "text": [
      " 13%|█▎        | 8/63 [01:37<10:56, 11.94s/it]"
     ]
    },
    {
     "name": "stdout",
     "output_type": "stream",
     "text": [
      "PicVocab_Unadj (0.05330199023334003, 0.33073639543656624) (0.13447429932716648, 0.013767147164887267)\n"
     ]
    },
    {
     "name": "stderr",
     "output_type": "stream",
     "text": [
      " 14%|█▍        | 9/63 [01:48<10:31, 11.70s/it]"
     ]
    },
    {
     "name": "stdout",
     "output_type": "stream",
     "text": [
      "ProcSpeed_Unadj (0.046508766950620326, 0.39614415887763) (0.14618903006208028, 0.007359782574794105)\n"
     ]
    },
    {
     "name": "stderr",
     "output_type": "stream",
     "text": [
      " 16%|█▌        | 10/63 [01:59<10:19, 11.69s/it]"
     ]
    },
    {
     "name": "stdout",
     "output_type": "stream",
     "text": [
      "DDisc_AUC_40K (0.005948962408543486, 0.9136166362075928) (0.11553582553732428, 0.03452959232490628)\n"
     ]
    },
    {
     "name": "stderr",
     "output_type": "stream",
     "text": [
      " 17%|█▋        | 11/63 [02:11<10:07, 11.68s/it]"
     ]
    },
    {
     "name": "stdout",
     "output_type": "stream",
     "text": [
      "VSPLOT_TC (0.16175310277809887, 0.0029869479157397525) (0.17227242175155955, 0.00155076234233302)\n"
     ]
    },
    {
     "name": "stderr",
     "output_type": "stream",
     "text": [
      " 19%|█▉        | 12/63 [02:23<09:56, 11.70s/it]"
     ]
    },
    {
     "name": "stdout",
     "output_type": "stream",
     "text": [
      "SCPT_TP (0.017725878161344577, 0.7465062416774528) (0.01777375976176985, 0.7458450059328855)\n"
     ]
    },
    {
     "name": "stderr",
     "output_type": "stream",
     "text": [
      " 21%|██        | 13/63 [02:34<09:44, 11.69s/it]"
     ]
    },
    {
     "name": "stdout",
     "output_type": "stream",
     "text": [
      "SCPT_TN (0.016089525943497027, 0.769212642801539) (0.004173125908964008, 0.9393430540548086)\n"
     ]
    },
    {
     "name": "stderr",
     "output_type": "stream",
     "text": [
      " 22%|██▏       | 14/63 [02:45<09:10, 11.24s/it]"
     ]
    },
    {
     "name": "stdout",
     "output_type": "stream",
     "text": [
      "SCPT_FP (0.00417312590896405, 0.9393430540548086) (0.01608952594349682, 0.769212642801551)\n"
     ]
    },
    {
     "name": "stderr",
     "output_type": "stream",
     "text": [
      " 24%|██▍       | 15/63 [02:57<09:17, 11.61s/it]"
     ]
    },
    {
     "name": "stdout",
     "output_type": "stream",
     "text": [
      "SCPT_FN (0.01777375976176972, 0.7458450059328878) (0.017725878161344424, 0.7465062416774704)\n"
     ]
    },
    {
     "name": "stderr",
     "output_type": "stream",
     "text": [
      " 25%|██▌       | 16/63 [03:09<09:13, 11.77s/it]"
     ]
    },
    {
     "name": "stdout",
     "output_type": "stream",
     "text": [
      "SCPT_SEN (0.017747659739918695, 0.7462054191739392) (0.017805616954547042, 0.7454051673746216)\n"
     ]
    },
    {
     "name": "stderr",
     "output_type": "stream",
     "text": [
      " 27%|██▋       | 17/63 [03:20<08:50, 11.52s/it]"
     ]
    },
    {
     "name": "stdout",
     "output_type": "stream",
     "text": [
      "SCPT_SPEC (0.012924134631086482, 0.8136839571028214) (0.003512223439009178, 0.9489350628334339)\n"
     ]
    },
    {
     "name": "stderr",
     "output_type": "stream",
     "text": [
      " 29%|██▊       | 18/63 [03:31<08:30, 11.34s/it]"
     ]
    },
    {
     "name": "stdout",
     "output_type": "stream",
     "text": [
      "SCPT_LRNR (0.04045490914975558, 0.46052601849755975) (0.05030421033354275, 0.35869319616589357)\n"
     ]
    },
    {
     "name": "stderr",
     "output_type": "stream",
     "text": [
      " 30%|███       | 19/63 [03:43<08:21, 11.41s/it]"
     ]
    },
    {
     "name": "stdout",
     "output_type": "stream",
     "text": [
      "IWRD_TOT (0.06611600902362491, 0.22746315451341786) (0.05055471357320897, 0.35630193392318144)\n"
     ]
    },
    {
     "name": "stderr",
     "output_type": "stream",
     "text": [
      " 32%|███▏      | 20/63 [03:55<08:24, 11.73s/it]"
     ]
    },
    {
     "name": "stdout",
     "output_type": "stream",
     "text": [
      "ListSort_Unadj (0.07570802867971085, 0.16682132863700325) (0.14524514730663118, 0.007753496080491584)\n"
     ]
    },
    {
     "name": "stderr",
     "output_type": "stream",
     "text": [
      " 33%|███▎      | 21/63 [04:07<08:18, 11.87s/it]"
     ]
    },
    {
     "name": "stdout",
     "output_type": "stream",
     "text": [
      "ER40_CR (0.1439206499492533, 0.008337639317274178) (0.024956084484256277, 0.6490121661206664)\n"
     ]
    },
    {
     "name": "stderr",
     "output_type": "stream",
     "text": [
      " 35%|███▍      | 22/63 [04:18<07:56, 11.63s/it]"
     ]
    },
    {
     "name": "stdout",
     "output_type": "stream",
     "text": [
      "ER40ANG (0.0035495098901344724, 0.9483936966905029) (-0.05008127187355895, 0.36082975691817787)\n"
     ]
    },
    {
     "name": "stderr",
     "output_type": "stream",
     "text": [
      " 37%|███▋      | 23/63 [04:30<07:47, 11.69s/it]"
     ]
    },
    {
     "name": "stdout",
     "output_type": "stream",
     "text": [
      "ER40FEAR (-0.0025806052655108908, 0.9624683047477388) (-0.08407418590843654, 0.12459265393956609)\n"
     ]
    },
    {
     "name": "stderr",
     "output_type": "stream",
     "text": [
      " 38%|███▊      | 24/63 [04:40<07:17, 11.22s/it]"
     ]
    },
    {
     "name": "stdout",
     "output_type": "stream",
     "text": [
      "ER40HAP (0.006949749821662068, 0.8991561673765891) (-0.12797026187779326, 0.019122859652532607)\n"
     ]
    },
    {
     "name": "stderr",
     "output_type": "stream",
     "text": [
      " 40%|███▉      | 25/63 [04:51<07:03, 11.15s/it]"
     ]
    },
    {
     "name": "stdout",
     "output_type": "stream",
     "text": [
      "ER40NOE (0.012097697320108708, 0.8254002731738087) (-0.08630967904510806, 0.11484949914950196)\n"
     ]
    },
    {
     "name": "stderr",
     "output_type": "stream",
     "text": [
      " 41%|████▏     | 26/63 [05:02<06:46, 10.99s/it]"
     ]
    },
    {
     "name": "stdout",
     "output_type": "stream",
     "text": [
      "ER40SAD (-0.1006224911515591, 0.0658444279737228) (-0.10815595475050693, 0.04793033254963854)\n"
     ]
    },
    {
     "name": "stderr",
     "output_type": "stream",
     "text": [
      " 43%|████▎     | 27/63 [05:14<06:46, 11.29s/it]"
     ]
    },
    {
     "name": "stdout",
     "output_type": "stream",
     "text": [
      "AngAffect_Unadj (-0.00853398207704796, 0.8763353004851546) (-0.0017864022574009906, 0.9740140296497258)\n"
     ]
    },
    {
     "name": "stderr",
     "output_type": "stream",
     "text": [
      " 44%|████▍     | 28/63 [05:25<06:32, 11.21s/it]"
     ]
    },
    {
     "name": "stdout",
     "output_type": "stream",
     "text": [
      "AngHostil_Unadj (-0.1062355239182688, 0.052056977919184344) (-0.02435061146708785, 0.656977990140181)\n"
     ]
    },
    {
     "name": "stderr",
     "output_type": "stream",
     "text": [
      " 46%|████▌     | 29/63 [05:39<06:46, 11.95s/it]"
     ]
    },
    {
     "name": "stdout",
     "output_type": "stream",
     "text": [
      "AngAggr_Unadj (0.23920586455365284, 9.588769303190225e-06) (0.19289471690769155, 0.00038412014578246884)\n"
     ]
    },
    {
     "name": "stderr",
     "output_type": "stream",
     "text": [
      " 48%|████▊     | 30/63 [05:50<06:28, 11.76s/it]"
     ]
    },
    {
     "name": "stdout",
     "output_type": "stream",
     "text": [
      "FearAffect_Unadj (0.11531362519942906, 0.03488079258067998) (0.031231889916828112, 0.5689220408053545)\n"
     ]
    },
    {
     "name": "stderr",
     "output_type": "stream",
     "text": [
      " 49%|████▉     | 31/63 [06:01<06:13, 11.67s/it]"
     ]
    },
    {
     "name": "stdout",
     "output_type": "stream",
     "text": [
      "FearSomat_Unadj (0.07206765396576753, 0.18822913350382706) (0.08923593602814144, 0.10300955951355861)\n"
     ]
    },
    {
     "name": "stderr",
     "output_type": "stream",
     "text": [
      " 51%|█████     | 32/63 [06:12<05:55, 11.47s/it]"
     ]
    },
    {
     "name": "stdout",
     "output_type": "stream",
     "text": [
      "Sadness_Unadj (-0.07086851035523432, 0.19570486640724788) (-0.09759276028724673, 0.07445216839304893)\n"
     ]
    },
    {
     "name": "stderr",
     "output_type": "stream",
     "text": [
      " 52%|█████▏    | 33/63 [06:25<05:52, 11.76s/it]"
     ]
    },
    {
     "name": "stdout",
     "output_type": "stream",
     "text": [
      "LifeSatisf_Unadj (0.13564494863349105, 0.012957850559139044) (0.1105154989215726, 0.04323827200622498)\n"
     ]
    },
    {
     "name": "stderr",
     "output_type": "stream",
     "text": [
      " 54%|█████▍    | 34/63 [06:36<05:33, 11.52s/it]"
     ]
    },
    {
     "name": "stdout",
     "output_type": "stream",
     "text": [
      "MeanPurp_Unadj (0.16009422342212232, 0.0033009497481077247) (0.16864056517572432, 0.0019528905531967012)\n"
     ]
    },
    {
     "name": "stderr",
     "output_type": "stream",
     "text": [
      " 56%|█████▌    | 35/63 [06:48<05:29, 11.78s/it]"
     ]
    },
    {
     "name": "stdout",
     "output_type": "stream",
     "text": [
      "PosAffect_Unadj (0.030614926369385766, 0.5765838176936828) (0.0321985067385018, 0.5570163700915007)\n"
     ]
    },
    {
     "name": "stderr",
     "output_type": "stream",
     "text": [
      " 57%|█████▋    | 36/63 [07:00<05:16, 11.71s/it]"
     ]
    },
    {
     "name": "stdout",
     "output_type": "stream",
     "text": [
      "Friendship_Unadj (0.1257084354985284, 0.021370238358818603) (-0.030610271827310857, 0.5766418038756712)\n"
     ]
    },
    {
     "name": "stderr",
     "output_type": "stream",
     "text": [
      " 59%|█████▊    | 37/63 [07:11<05:03, 11.69s/it]"
     ]
    },
    {
     "name": "stdout",
     "output_type": "stream",
     "text": [
      "Loneliness_Unadj (-0.00407177443592345, 0.9408134849744096) (-0.08403767671899653, 0.12475694162974225)\n"
     ]
    },
    {
     "name": "stderr",
     "output_type": "stream",
     "text": [
      " 60%|██████    | 38/63 [07:24<04:58, 11.94s/it]"
     ]
    },
    {
     "name": "stdout",
     "output_type": "stream",
     "text": [
      "PercHostil_Unadj (0.006910465179854108, 0.8997231985105112) (-0.05287054955019402, 0.3346711209202752)\n"
     ]
    },
    {
     "name": "stderr",
     "output_type": "stream",
     "text": [
      " 62%|██████▏   | 39/63 [07:37<04:51, 12.16s/it]"
     ]
    },
    {
     "name": "stdout",
     "output_type": "stream",
     "text": [
      "PercReject_Unadj (0.03037922986401952, 0.5795235537791711) (0.2107110730401982, 0.00010193174627229378)\n"
     ]
    },
    {
     "name": "stderr",
     "output_type": "stream",
     "text": [
      " 63%|██████▎   | 40/63 [07:49<04:43, 12.31s/it]"
     ]
    },
    {
     "name": "stdout",
     "output_type": "stream",
     "text": [
      "EmotSupp_Unadj (0.16305016037109232, 0.0027606092078034123) (0.04009423019235375, 0.46453723893546683)\n"
     ]
    },
    {
     "name": "stderr",
     "output_type": "stream",
     "text": [
      " 65%|██████▌   | 41/63 [08:02<04:34, 12.49s/it]"
     ]
    },
    {
     "name": "stdout",
     "output_type": "stream",
     "text": [
      "InstruSupp_Unadj (0.17256407158525544, 0.001522016645678443) (0.11220529453825237, 0.040120741861300005)\n"
     ]
    },
    {
     "name": "stderr",
     "output_type": "stream",
     "text": [
      " 67%|██████▋   | 42/63 [08:14<04:17, 12.27s/it]"
     ]
    },
    {
     "name": "stdout",
     "output_type": "stream",
     "text": [
      "PercStress_Unadj (-0.08299675410451689, 0.12951209182969614) (0.0245180051494579, 0.6547717647210748)\n"
     ]
    },
    {
     "name": "stderr",
     "output_type": "stream",
     "text": [
      " 68%|██████▊   | 43/63 [08:26<04:03, 12.16s/it]"
     ]
    },
    {
     "name": "stdout",
     "output_type": "stream",
     "text": [
      "SelfEff_Unadj (0.106004434390637, 0.05257291900464222) (-0.01885367100853179, 0.730981975162193)\n"
     ]
    },
    {
     "name": "stderr",
     "output_type": "stream",
     "text": [
      " 70%|██████▉   | 44/63 [08:39<03:56, 12.45s/it]"
     ]
    },
    {
     "name": "stdout",
     "output_type": "stream",
     "text": [
      "Emotion_Task_Face_Acc (0.006398748665188889, 0.9071138209903765) (0.015634375208041888, 0.7755645467973526)\n"
     ]
    },
    {
     "name": "stderr",
     "output_type": "stream",
     "text": [
      " 71%|███████▏  | 45/63 [08:51<03:42, 12.38s/it]"
     ]
    },
    {
     "name": "stdout",
     "output_type": "stream",
     "text": [
      "Language_Task_Story_Avg_Difficulty_Level (0.06706967046394954, 0.22081373910535404) (0.16321083457034558, 0.0027336847419411003)\n"
     ]
    },
    {
     "name": "stderr",
     "output_type": "stream",
     "text": [
      " 73%|███████▎  | 46/63 [09:04<03:30, 12.40s/it]"
     ]
    },
    {
     "name": "stdout",
     "output_type": "stream",
     "text": [
      "Language_Task_Math_Avg_Difficulty_Level (0.09879224679140511, 0.07094077928199187) (0.10662206206729638, 0.05120340199591425)\n"
     ]
    },
    {
     "name": "stderr",
     "output_type": "stream",
     "text": [
      " 75%|███████▍  | 47/63 [09:17<03:23, 12.70s/it]"
     ]
    },
    {
     "name": "stdout",
     "output_type": "stream",
     "text": [
      "Relational_Task_Acc (0.16516442513037372, 0.0024248906214349416) (0.22531131291261258, 3.1533414917356635e-05)\n"
     ]
    },
    {
     "name": "stderr",
     "output_type": "stream",
     "text": [
      " 76%|███████▌  | 48/63 [09:28<03:04, 12.27s/it]"
     ]
    },
    {
     "name": "stdout",
     "output_type": "stream",
     "text": [
      "Social_Task_Perc_Random (0.01079370095848655, 0.8439648962727516) (-0.055757880585637576, 0.3089089688232046)\n"
     ]
    },
    {
     "name": "stderr",
     "output_type": "stream",
     "text": [
      " 78%|███████▊  | 49/63 [09:41<02:52, 12.33s/it]"
     ]
    },
    {
     "name": "stdout",
     "output_type": "stream",
     "text": [
      "Social_Task_Perc_TOM (0.10262084845075072, 0.06062706908799045) (0.1638594963664447, 0.002627398496409187)\n"
     ]
    },
    {
     "name": "stderr",
     "output_type": "stream",
     "text": [
      " 79%|███████▉  | 50/63 [09:51<02:30, 11.57s/it]"
     ]
    },
    {
     "name": "stdout",
     "output_type": "stream",
     "text": [
      "WM_Task_Acc (0.1407707511263795, 0.009887026586805186) (0.18208583404938505, 0.0008131049759204425)\n"
     ]
    },
    {
     "name": "stderr",
     "output_type": "stream",
     "text": [
      " 81%|████████  | 51/63 [10:04<02:23, 12.00s/it]"
     ]
    },
    {
     "name": "stdout",
     "output_type": "stream",
     "text": [
      "Endurance_Unadj (0.17499473750523176, 0.0013007822405171812) (0.14888135485928838, 0.0063330125203848045)\n"
     ]
    },
    {
     "name": "stderr",
     "output_type": "stream",
     "text": [
      " 83%|████████▎ | 52/63 [10:16<02:12, 12.03s/it]"
     ]
    },
    {
     "name": "stdout",
     "output_type": "stream",
     "text": [
      "GaitSpeed_Comp (0.11265059081327553, 0.03933154374547938) (0.12645949302379117, 0.0205998246637855)\n"
     ]
    },
    {
     "name": "stderr",
     "output_type": "stream",
     "text": [
      " 84%|████████▍ | 53/63 [10:27<01:59, 11.98s/it]"
     ]
    },
    {
     "name": "stdout",
     "output_type": "stream",
     "text": [
      "Dexterity_Unadj (0.14462399219128053, 0.008022738399044457) (0.1580686974264676, 0.003724787196649292)\n"
     ]
    },
    {
     "name": "stderr",
     "output_type": "stream",
     "text": [
      " 86%|████████▌ | 54/63 [10:42<01:55, 12.84s/it]"
     ]
    },
    {
     "name": "stdout",
     "output_type": "stream",
     "text": [
      "Strength_Unadj (0.3920539486667131, 9.385188846777923e-14) (0.38115528545398963, 5.019940102320047e-13)\n"
     ]
    },
    {
     "name": "stderr",
     "output_type": "stream",
     "text": [
      " 87%|████████▋ | 55/63 [10:56<01:44, 13.11s/it]"
     ]
    },
    {
     "name": "stdout",
     "output_type": "stream",
     "text": [
      "NEOFAC_A (0.20447254137003051, 0.00016432177812444125) (0.15333641575772963, 0.004913065882523873)\n"
     ]
    },
    {
     "name": "stderr",
     "output_type": "stream",
     "text": [
      " 89%|████████▉ | 56/63 [11:08<01:29, 12.84s/it]"
     ]
    },
    {
     "name": "stdout",
     "output_type": "stream",
     "text": [
      "NEOFAC_O (0.08018844730727044, 0.1430401659212855) (0.12275189986250004, 0.024650613350813155)\n"
     ]
    },
    {
     "name": "stderr",
     "output_type": "stream",
     "text": [
      " 90%|█████████ | 57/63 [11:21<01:17, 12.86s/it]"
     ]
    },
    {
     "name": "stdout",
     "output_type": "stream",
     "text": [
      "NEOFAC_C (0.04065005721455975, 0.4583637827135842) (0.009454359361695877, 0.8631228779625342)\n"
     ]
    },
    {
     "name": "stderr",
     "output_type": "stream",
     "text": [
      " 92%|█████████▏| 58/63 [11:33<01:03, 12.63s/it]"
     ]
    },
    {
     "name": "stdout",
     "output_type": "stream",
     "text": [
      "NEOFAC_N (-0.12610583193128594, 0.020959544222108523) (-0.013815719300848196, 0.8010905004904871)\n"
     ]
    },
    {
     "name": "stderr",
     "output_type": "stream",
     "text": [
      " 94%|█████████▎| 59/63 [11:46<00:50, 12.66s/it]"
     ]
    },
    {
     "name": "stdout",
     "output_type": "stream",
     "text": [
      "NEOFAC_E (0.10249818222165963, 0.06093719320232473) (0.14383742970870614, 0.008375617681456596)\n"
     ]
    },
    {
     "name": "stderr",
     "output_type": "stream",
     "text": [
      " 95%|█████████▌| 60/63 [11:57<00:36, 12.26s/it]"
     ]
    },
    {
     "name": "stdout",
     "output_type": "stream",
     "text": [
      "Odor_Unadj (0.010457304501009124, 0.8487685486323538) (0.019956038606643307, 0.7159129068201933)\n"
     ]
    },
    {
     "name": "stderr",
     "output_type": "stream",
     "text": [
      " 97%|█████████▋| 61/63 [12:09<00:24, 12.08s/it]"
     ]
    },
    {
     "name": "stdout",
     "output_type": "stream",
     "text": [
      "PainInterf_Tscore (0.1223443255761715, 0.025135261682256348) (0.1055593584713275, 0.053578608671021564)\n"
     ]
    },
    {
     "name": "stderr",
     "output_type": "stream",
     "text": [
      " 98%|█████████▊| 62/63 [12:21<00:11, 11.93s/it]"
     ]
    },
    {
     "name": "stdout",
     "output_type": "stream",
     "text": [
      "Taste_Unadj (0.05464915569272363, 0.3186429248797089) (0.09569279617304174, 0.0803023032640853)\n"
     ]
    },
    {
     "name": "stderr",
     "output_type": "stream",
     "text": [
      "100%|██████████| 63/63 [12:33<00:00, 11.96s/it]"
     ]
    },
    {
     "name": "stdout",
     "output_type": "stream",
     "text": [
      "Mars_Final (-0.02101276740304872, 0.7015703115099494) (-0.048446846828113316, 0.376735255100526)\n"
     ]
    },
    {
     "name": "stderr",
     "output_type": "stream",
     "text": [
      "\n"
     ]
    }
   ],
   "source": [
    "beh_cpm = {}\n",
    "\n",
    "CPM_FC = CPM_TOTAL.CPM(5,subjlist,\"Ridge\")\n",
    "\n",
    "for beh in tqdm(beh_list.columns[3:]):\n",
    "    predict_pheno_p,predict_pheno_n, ratio_p, ratio_n=CPM_FC.train(fc_list,beh_list[beh],0.01)\n",
    "    \n",
    "    true_behavior = np.array([float(i) for i in beh_list[beh]])\n",
    "    \n",
    "    pearson_p = stats.pearsonr(predict_pheno_p[0], true_behavior)\n",
    "    pearson_n = stats.pearsonr(predict_pheno_n[0], true_behavior)\n",
    "    \n",
    "    print(beh, pearson_p,pearson_n)\n",
    "    beh_cpm[beh] = [pearson_p, pearson_n, np.mean(ratio_p),np.mean(ratio_n)]\n",
    "    \n",
    "    "
   ]
  },
  {
   "cell_type": "code",
   "execution_count": 15,
   "metadata": {
    "collapsed": true,
    "jupyter": {
     "outputs_hidden": true
    }
   },
   "outputs": [
    {
     "name": "stderr",
     "output_type": "stream",
     "text": [
      "  2%|▏         | 1/63 [00:14<15:12, 14.71s/it]"
     ]
    },
    {
     "name": "stdout",
     "output_type": "stream",
     "text": [
      "MMSE_Score (-0.09987261298248097, 0.06789493105696501) (0.04282838318170609, 0.4346162518922699)\n"
     ]
    },
    {
     "name": "stderr",
     "output_type": "stream",
     "text": [
      "  3%|▎         | 2/63 [00:28<14:35, 14.35s/it]"
     ]
    },
    {
     "name": "stdout",
     "output_type": "stream",
     "text": [
      "PSQI_Score (0.08628449758721013, 0.11495582572729401) (0.09846505543865877, 0.07188492127057262)\n"
     ]
    },
    {
     "name": "stderr",
     "output_type": "stream",
     "text": [
      "  5%|▍         | 3/63 [00:40<13:39, 13.66s/it]"
     ]
    },
    {
     "name": "stdout",
     "output_type": "stream",
     "text": [
      "PicSeq_Unadj (0.19577877611443434, 0.00031228204775473776) (0.1776464919371413, 0.001093400291574976)\n"
     ]
    },
    {
     "name": "stderr",
     "output_type": "stream",
     "text": [
      "  6%|▋         | 4/63 [00:52<13:07, 13.35s/it]"
     ]
    },
    {
     "name": "stdout",
     "output_type": "stream",
     "text": [
      "CardSort_Unadj (0.11267472053885025, 0.03928915608216878) (0.21319440435279285, 8.395500818386929e-05)\n"
     ]
    },
    {
     "name": "stderr",
     "output_type": "stream",
     "text": [
      "  8%|▊         | 5/63 [01:05<12:34, 13.02s/it]"
     ]
    },
    {
     "name": "stdout",
     "output_type": "stream",
     "text": [
      "Flanker_Unadj (-0.033278075487708794, 0.5438639856166951) (-0.04753617031712335, 0.38578143096968187)\n"
     ]
    },
    {
     "name": "stderr",
     "output_type": "stream",
     "text": [
      " 10%|▉         | 6/63 [01:17<12:15, 12.90s/it]"
     ]
    },
    {
     "name": "stdout",
     "output_type": "stream",
     "text": [
      "PMAT24_A_CR (0.1773271842003551, 0.0011166502698431238) (0.22777867911959204, 2.5660776085931006e-05)\n"
     ]
    },
    {
     "name": "stderr",
     "output_type": "stream",
     "text": [
      " 11%|█         | 7/63 [01:31<12:10, 13.04s/it]"
     ]
    },
    {
     "name": "stdout",
     "output_type": "stream",
     "text": [
      "ReadEng_Unadj (0.20732481250476306, 0.0001323238343576174) (0.27849199967478894, 2.2064808917295572e-07)\n"
     ]
    },
    {
     "name": "stderr",
     "output_type": "stream",
     "text": [
      " 13%|█▎        | 8/63 [01:44<11:56, 13.02s/it]"
     ]
    },
    {
     "name": "stdout",
     "output_type": "stream",
     "text": [
      "PicVocab_Unadj (0.05330863087698325, 0.33067606675344674) (0.13418764906736316, 0.013971962429294072)\n"
     ]
    },
    {
     "name": "stderr",
     "output_type": "stream",
     "text": [
      " 14%|█▍        | 9/63 [01:56<11:27, 12.73s/it]"
     ]
    },
    {
     "name": "stdout",
     "output_type": "stream",
     "text": [
      "ProcSpeed_Unadj (0.04674851345769588, 0.39371114941291047) (0.1463097092361972, 0.00731075410112064)\n"
     ]
    },
    {
     "name": "stderr",
     "output_type": "stream",
     "text": [
      " 16%|█▌        | 10/63 [02:07<10:59, 12.45s/it]"
     ]
    },
    {
     "name": "stdout",
     "output_type": "stream",
     "text": [
      "DDisc_AUC_40K (0.006028723026871928, 0.9124630590500166) (0.11540527759938464, 0.03473556454748678)\n"
     ]
    },
    {
     "name": "stderr",
     "output_type": "stream",
     "text": [
      " 17%|█▋        | 11/63 [02:20<10:54, 12.58s/it]"
     ]
    },
    {
     "name": "stdout",
     "output_type": "stream",
     "text": [
      "VSPLOT_TC (0.16154927739992994, 0.0030240098533568897) (0.1723357219453151, 0.0015444813661589052)\n"
     ]
    },
    {
     "name": "stderr",
     "output_type": "stream",
     "text": [
      " 19%|█▉        | 12/63 [02:32<10:30, 12.36s/it]"
     ]
    },
    {
     "name": "stdout",
     "output_type": "stream",
     "text": [
      "SCPT_TP (0.03838811251716143, 0.48377134258274407) (0.030444891627713407, 0.5787038810255963)\n"
     ]
    },
    {
     "name": "stderr",
     "output_type": "stream",
     "text": [
      " 21%|██        | 13/63 [02:44<10:10, 12.21s/it]"
     ]
    },
    {
     "name": "stdout",
     "output_type": "stream",
     "text": [
      "SCPT_TN (0.015905127684870894, 0.7717842010496454) (0.00441060841752168, 0.9358984171380546)\n"
     ]
    },
    {
     "name": "stderr",
     "output_type": "stream",
     "text": [
      " 22%|██▏       | 14/63 [02:56<09:51, 12.07s/it]"
     ]
    },
    {
     "name": "stdout",
     "output_type": "stream",
     "text": [
      "SCPT_FP (0.004410608417521944, 0.9358984171380604) (0.015905127684870894, 0.7717842010496454)\n"
     ]
    },
    {
     "name": "stderr",
     "output_type": "stream",
     "text": [
      " 24%|██▍       | 15/63 [03:07<09:27, 11.82s/it]"
     ]
    },
    {
     "name": "stdout",
     "output_type": "stream",
     "text": [
      "SCPT_FN (0.030444891627713393, 0.5787038810255963) (0.038388112517161344, 0.4837713425827398)\n"
     ]
    },
    {
     "name": "stderr",
     "output_type": "stream",
     "text": [
      " 25%|██▌       | 16/63 [03:19<09:21, 11.95s/it]"
     ]
    },
    {
     "name": "stdout",
     "output_type": "stream",
     "text": [
      "SCPT_SEN (0.0384109397028074, 0.48351119019472644) (0.03047638125390474, 0.5783109803771882)\n"
     ]
    },
    {
     "name": "stderr",
     "output_type": "stream",
     "text": [
      " 27%|██▋       | 17/63 [03:31<09:12, 12.02s/it]"
     ]
    },
    {
     "name": "stdout",
     "output_type": "stream",
     "text": [
      "SCPT_SPEC (0.012737814450315806, 0.8163218774297661) (0.003746825256227715, 0.9455292536046295)\n"
     ]
    },
    {
     "name": "stderr",
     "output_type": "stream",
     "text": [
      " 29%|██▊       | 18/63 [03:44<09:11, 12.26s/it]"
     ]
    },
    {
     "name": "stdout",
     "output_type": "stream",
     "text": [
      "SCPT_LRNR (0.06755913517072906, 0.21745533689780402) (0.07649660487473627, 0.16243399877278913)\n"
     ]
    },
    {
     "name": "stderr",
     "output_type": "stream",
     "text": [
      " 30%|███       | 19/63 [03:57<08:59, 12.25s/it]"
     ]
    },
    {
     "name": "stdout",
     "output_type": "stream",
     "text": [
      "IWRD_TOT (0.06647937031302734, 0.2249130535725326) (0.05069957722645563, 0.35492366557859595)\n"
     ]
    },
    {
     "name": "stderr",
     "output_type": "stream",
     "text": [
      " 32%|███▏      | 20/63 [04:10<08:56, 12.48s/it]"
     ]
    },
    {
     "name": "stdout",
     "output_type": "stream",
     "text": [
      "ListSort_Unadj (0.0757223086764405, 0.16674109982851298) (0.14535174512533058, 0.007708109895235065)\n"
     ]
    },
    {
     "name": "stderr",
     "output_type": "stream",
     "text": [
      " 33%|███▎      | 21/63 [04:21<08:37, 12.33s/it]"
     ]
    },
    {
     "name": "stdout",
     "output_type": "stream",
     "text": [
      "ER40_CR (0.14392253623333948, 0.008336780273545182) (0.02498339691289423, 0.6486537654482154)\n"
     ]
    },
    {
     "name": "stderr",
     "output_type": "stream",
     "text": [
      " 35%|███▍      | 22/63 [04:34<08:29, 12.42s/it]"
     ]
    },
    {
     "name": "stdout",
     "output_type": "stream",
     "text": [
      "ER40ANG (0.00305300880695563, 0.9556042988170077) (-0.050018510435508964, 0.36143267042008215)\n"
     ]
    },
    {
     "name": "stderr",
     "output_type": "stream",
     "text": [
      " 37%|███▋      | 23/63 [04:46<08:09, 12.23s/it]"
     ]
    },
    {
     "name": "stdout",
     "output_type": "stream",
     "text": [
      "ER40FEAR (-0.0041595757001346295, 0.9395396318478105) (-0.08414353822993575, 0.12428103809180358)\n"
     ]
    },
    {
     "name": "stderr",
     "output_type": "stream",
     "text": [
      " 38%|███▊      | 24/63 [04:58<07:57, 12.25s/it]"
     ]
    },
    {
     "name": "stdout",
     "output_type": "stream",
     "text": [
      "ER40HAP (0.007194006330187526, 0.8956317508843904) (-0.125910417049871, 0.02116063444827356)\n"
     ]
    },
    {
     "name": "stderr",
     "output_type": "stream",
     "text": [
      " 40%|███▉      | 25/63 [05:10<07:34, 11.97s/it]"
     ]
    },
    {
     "name": "stdout",
     "output_type": "stream",
     "text": [
      "ER40NOE (0.011835831417387449, 0.8291209427492048) (-0.08663182360331634, 0.11349605619094826)\n"
     ]
    },
    {
     "name": "stderr",
     "output_type": "stream",
     "text": [
      " 41%|████▏     | 26/63 [05:21<07:21, 11.94s/it]"
     ]
    },
    {
     "name": "stdout",
     "output_type": "stream",
     "text": [
      "ER40SAD (-0.1005580358043753, 0.06601865808220721) (-0.10817912134574492, 0.04788227315953446)\n"
     ]
    },
    {
     "name": "stderr",
     "output_type": "stream",
     "text": [
      " 43%|████▎     | 27/63 [05:34<07:18, 12.18s/it]"
     ]
    },
    {
     "name": "stdout",
     "output_type": "stream",
     "text": [
      "AngAffect_Unadj (-0.008420609424334882, 0.877965267675229) (-0.0017622458529726343, 0.9743653005217958)\n"
     ]
    },
    {
     "name": "stderr",
     "output_type": "stream",
     "text": [
      " 44%|████▍     | 28/63 [05:47<07:09, 12.27s/it]"
     ]
    },
    {
     "name": "stdout",
     "output_type": "stream",
     "text": [
      "AngHostil_Unadj (-0.1061917254943196, 0.05215443917381534) (-0.024371930692077368, 0.6566968397591014)\n"
     ]
    },
    {
     "name": "stderr",
     "output_type": "stream",
     "text": [
      " 46%|████▌     | 29/63 [06:00<07:13, 12.74s/it]"
     ]
    },
    {
     "name": "stdout",
     "output_type": "stream",
     "text": [
      "AngAggr_Unadj (0.24006952493162367, 8.883329077610566e-06) (0.19381239812338655, 0.00035974459566769735)\n"
     ]
    },
    {
     "name": "stderr",
     "output_type": "stream",
     "text": [
      " 48%|████▊     | 30/63 [06:13<06:56, 12.61s/it]"
     ]
    },
    {
     "name": "stdout",
     "output_type": "stream",
     "text": [
      "FearAffect_Unadj (0.11547268399134274, 0.034629083942183975) (0.03107801931412705, 0.5708283483989273)\n"
     ]
    },
    {
     "name": "stderr",
     "output_type": "stream",
     "text": [
      " 49%|████▉     | 31/63 [06:25<06:43, 12.61s/it]"
     ]
    },
    {
     "name": "stdout",
     "output_type": "stream",
     "text": [
      "FearSomat_Unadj (0.07159454686973271, 0.1911531427530895) (0.08916987711278428, 0.10326574432756935)\n"
     ]
    },
    {
     "name": "stderr",
     "output_type": "stream",
     "text": [
      " 51%|█████     | 32/63 [06:37<06:24, 12.40s/it]"
     ]
    },
    {
     "name": "stdout",
     "output_type": "stream",
     "text": [
      "Sadness_Unadj (-0.07076281541004634, 0.19637403715096993) (-0.0976323612578599, 0.07433402453068454)\n"
     ]
    },
    {
     "name": "stderr",
     "output_type": "stream",
     "text": [
      " 52%|█████▏    | 33/63 [06:50<06:12, 12.40s/it]"
     ]
    },
    {
     "name": "stdout",
     "output_type": "stream",
     "text": [
      "LifeSatisf_Unadj (0.13581348449794778, 0.012844856491215407) (0.11035904773966633, 0.04353694855529223)\n"
     ]
    },
    {
     "name": "stderr",
     "output_type": "stream",
     "text": [
      " 54%|█████▍    | 34/63 [07:01<05:53, 12.17s/it]"
     ]
    },
    {
     "name": "stdout",
     "output_type": "stream",
     "text": [
      "MeanPurp_Unadj (0.16059712609110643, 0.0032027337318509446) (0.1687681437896164, 0.0019372852344144746)\n"
     ]
    },
    {
     "name": "stderr",
     "output_type": "stream",
     "text": [
      " 56%|█████▌    | 35/63 [07:12<05:32, 11.87s/it]"
     ]
    },
    {
     "name": "stdout",
     "output_type": "stream",
     "text": [
      "PosAffect_Unadj (0.030683594885892753, 0.5757286650981276) (0.032232669924607826, 0.5565978079481567)\n"
     ]
    },
    {
     "name": "stderr",
     "output_type": "stream",
     "text": [
      " 57%|█████▋    | 36/63 [07:24<05:18, 11.81s/it]"
     ]
    },
    {
     "name": "stdout",
     "output_type": "stream",
     "text": [
      "Friendship_Unadj (0.12582856086147304, 0.02124536388368417) (-0.03062675436272729, 0.5764364771326862)\n"
     ]
    },
    {
     "name": "stderr",
     "output_type": "stream",
     "text": [
      " 59%|█████▊    | 37/63 [07:37<05:11, 11.98s/it]"
     ]
    },
    {
     "name": "stdout",
     "output_type": "stream",
     "text": [
      "Loneliness_Unadj (-0.0040013555340595724, 0.9418352574700017) (-0.08411738875399072, 0.12439846250983061)\n"
     ]
    },
    {
     "name": "stderr",
     "output_type": "stream",
     "text": [
      " 60%|██████    | 38/63 [07:48<04:59, 11.97s/it]"
     ]
    },
    {
     "name": "stdout",
     "output_type": "stream",
     "text": [
      "PercHostil_Unadj (0.006960940992017002, 0.8989946443538173) (-0.05250942374958032, 0.33798756871692287)\n"
     ]
    },
    {
     "name": "stderr",
     "output_type": "stream",
     "text": [
      " 62%|██████▏   | 39/63 [08:02<04:55, 12.30s/it]"
     ]
    },
    {
     "name": "stdout",
     "output_type": "stream",
     "text": [
      "PercReject_Unadj (0.030407019232948453, 0.5791765857252874) (0.2109551134826148, 0.00010001661239113303)\n"
     ]
    },
    {
     "name": "stderr",
     "output_type": "stream",
     "text": [
      " 63%|██████▎   | 40/63 [08:13<04:35, 11.98s/it]"
     ]
    },
    {
     "name": "stdout",
     "output_type": "stream",
     "text": [
      "EmotSupp_Unadj (0.1630911172452168, 0.002753723186445066) (0.04021636170154741, 0.463176814568882)\n"
     ]
    },
    {
     "name": "stderr",
     "output_type": "stream",
     "text": [
      " 65%|██████▌   | 41/63 [08:24<04:19, 11.79s/it]"
     ]
    },
    {
     "name": "stdout",
     "output_type": "stream",
     "text": [
      "InstruSupp_Unadj (0.17255327560706868, 0.001523071954619762) (0.11260696348322982, 0.03940828014172996)\n"
     ]
    },
    {
     "name": "stderr",
     "output_type": "stream",
     "text": [
      " 67%|██████▋   | 42/63 [08:35<04:04, 11.65s/it]"
     ]
    },
    {
     "name": "stdout",
     "output_type": "stream",
     "text": [
      "PercStress_Unadj (-0.08302711155120668, 0.12937145708413728) (0.025580716094640674, 0.640835966246355)\n"
     ]
    },
    {
     "name": "stderr",
     "output_type": "stream",
     "text": [
      " 68%|██████▊   | 43/63 [08:47<03:51, 11.57s/it]"
     ]
    },
    {
     "name": "stdout",
     "output_type": "stream",
     "text": [
      "SelfEff_Unadj (0.10606660741651877, 0.05243369196955178) (-0.019177165818090557, 0.726548860888167)\n"
     ]
    },
    {
     "name": "stderr",
     "output_type": "stream",
     "text": [
      " 70%|██████▉   | 44/63 [08:59<03:44, 11.82s/it]"
     ]
    },
    {
     "name": "stdout",
     "output_type": "stream",
     "text": [
      "Emotion_Task_Face_Acc (0.01280947286559167, 0.8153070909534912) (0.02062797358627705, 0.7067810519912933)\n"
     ]
    },
    {
     "name": "stderr",
     "output_type": "stream",
     "text": [
      " 71%|███████▏  | 45/63 [09:12<03:38, 12.14s/it]"
     ]
    },
    {
     "name": "stdout",
     "output_type": "stream",
     "text": [
      "Language_Task_Story_Avg_Difficulty_Level (0.06741628216333112, 0.21843170421505975) (0.16331949836418658, 0.0027156113629172355)\n"
     ]
    },
    {
     "name": "stderr",
     "output_type": "stream",
     "text": [
      " 73%|███████▎  | 46/63 [09:26<03:32, 12.53s/it]"
     ]
    },
    {
     "name": "stdout",
     "output_type": "stream",
     "text": [
      "Language_Task_Math_Avg_Difficulty_Level (0.09864304239970102, 0.07137005984636167) (0.10685438400949043, 0.05069601070364875)\n"
     ]
    },
    {
     "name": "stderr",
     "output_type": "stream",
     "text": [
      " 75%|███████▍  | 47/63 [09:38<03:18, 12.39s/it]"
     ]
    },
    {
     "name": "stdout",
     "output_type": "stream",
     "text": [
      "Relational_Task_Acc (0.16532757992364971, 0.0024005973108369317) (0.2255202534787988, 3.0990616975253e-05)\n"
     ]
    },
    {
     "name": "stderr",
     "output_type": "stream",
     "text": [
      " 76%|███████▌  | 48/63 [09:49<03:01, 12.11s/it]"
     ]
    },
    {
     "name": "stdout",
     "output_type": "stream",
     "text": [
      "Social_Task_Perc_Random (0.01129301289734363, 0.8368455444385846) (-0.05544726531167122, 0.3116160444888546)\n"
     ]
    },
    {
     "name": "stderr",
     "output_type": "stream",
     "text": [
      " 78%|███████▊  | 49/63 [10:01<02:50, 12.20s/it]"
     ]
    },
    {
     "name": "stdout",
     "output_type": "stream",
     "text": [
      "Social_Task_Perc_TOM (0.10299538554764573, 0.05968821399007824) (0.16409011388754852, 0.002590526336306413)\n"
     ]
    },
    {
     "name": "stderr",
     "output_type": "stream",
     "text": [
      " 79%|███████▉  | 50/63 [10:14<02:39, 12.26s/it]"
     ]
    },
    {
     "name": "stdout",
     "output_type": "stream",
     "text": [
      "WM_Task_Acc (0.14012338933326102, 0.01023540534620506) (0.1825105559982514, 0.0007901043031274545)\n"
     ]
    },
    {
     "name": "stderr",
     "output_type": "stream",
     "text": [
      " 81%|████████  | 51/63 [10:26<02:27, 12.25s/it]"
     ]
    },
    {
     "name": "stdout",
     "output_type": "stream",
     "text": [
      "Endurance_Unadj (0.1746611454081215, 0.0013292869449208645) (0.148782849607057, 0.006368191118416779)\n"
     ]
    },
    {
     "name": "stderr",
     "output_type": "stream",
     "text": [
      " 83%|████████▎ | 52/63 [10:38<02:14, 12.23s/it]"
     ]
    },
    {
     "name": "stdout",
     "output_type": "stream",
     "text": [
      "GaitSpeed_Comp (0.11270515721539788, 0.03923574434171863) (0.12651439360982353, 0.02054446685253868)\n"
     ]
    },
    {
     "name": "stderr",
     "output_type": "stream",
     "text": [
      " 84%|████████▍ | 53/63 [10:50<01:59, 11.98s/it]"
     ]
    },
    {
     "name": "stdout",
     "output_type": "stream",
     "text": [
      "Dexterity_Unadj (0.14416816293212315, 0.008225589122252365) (0.15814914940096136, 0.0037070554038220955)\n"
     ]
    },
    {
     "name": "stderr",
     "output_type": "stream",
     "text": [
      " 86%|████████▌ | 54/63 [11:05<01:57, 13.04s/it]"
     ]
    },
    {
     "name": "stdout",
     "output_type": "stream",
     "text": [
      "Strength_Unadj (0.3920589428465394, 9.377845779680436e-14) (0.381182545632302, 4.999315017713282e-13)\n"
     ]
    },
    {
     "name": "stderr",
     "output_type": "stream",
     "text": [
      " 87%|████████▋ | 55/63 [11:18<01:42, 12.82s/it]"
     ]
    },
    {
     "name": "stdout",
     "output_type": "stream",
     "text": [
      "NEOFAC_A (0.20460592434155406, 0.00016267660815079876) (0.15325152002619347, 0.0049371954697083635)\n"
     ]
    },
    {
     "name": "stderr",
     "output_type": "stream",
     "text": [
      " 89%|████████▉ | 56/63 [11:30<01:28, 12.66s/it]"
     ]
    },
    {
     "name": "stdout",
     "output_type": "stream",
     "text": [
      "NEOFAC_O (0.07955761597903378, 0.1462224385778806) (0.12260011394918825, 0.024830152554195375)\n"
     ]
    },
    {
     "name": "stderr",
     "output_type": "stream",
     "text": [
      " 90%|█████████ | 57/63 [11:41<01:14, 12.35s/it]"
     ]
    },
    {
     "name": "stdout",
     "output_type": "stream",
     "text": [
      "NEOFAC_C (0.04030557862008152, 0.46218442513133046) (0.009333359395343764, 0.864857793638478)\n"
     ]
    },
    {
     "name": "stderr",
     "output_type": "stream",
     "text": [
      " 92%|█████████▏| 58/63 [11:53<01:00, 12.17s/it]"
     ]
    },
    {
     "name": "stdout",
     "output_type": "stream",
     "text": [
      "NEOFAC_N (-0.12606925268101232, 0.02099705921898512) (-0.014037346200582189, 0.7979678973105927)\n"
     ]
    },
    {
     "name": "stderr",
     "output_type": "stream",
     "text": [
      " 94%|█████████▎| 59/63 [12:06<00:49, 12.40s/it]"
     ]
    },
    {
     "name": "stdout",
     "output_type": "stream",
     "text": [
      "NEOFAC_E (0.10266873155888509, 0.06050636511997729) (0.14370274192717564, 0.008437410228815214)\n"
     ]
    },
    {
     "name": "stderr",
     "output_type": "stream",
     "text": [
      " 95%|█████████▌| 60/63 [12:19<00:37, 12.41s/it]"
     ]
    },
    {
     "name": "stdout",
     "output_type": "stream",
     "text": [
      "Odor_Unadj (0.010426011010638609, 0.8492156986179858) (0.020102188480886126, 0.7139231746411597)\n"
     ]
    },
    {
     "name": "stderr",
     "output_type": "stream",
     "text": [
      " 97%|█████████▋| 61/63 [12:30<00:24, 12.09s/it]"
     ]
    },
    {
     "name": "stdout",
     "output_type": "stream",
     "text": [
      "PainInterf_Tscore (0.12360656455014417, 0.023660437907677828) (0.10586276778170998, 0.05289130926198189)\n"
     ]
    },
    {
     "name": "stderr",
     "output_type": "stream",
     "text": [
      " 98%|█████████▊| 62/63 [12:42<00:12, 12.19s/it]"
     ]
    },
    {
     "name": "stdout",
     "output_type": "stream",
     "text": [
      "Taste_Unadj (0.054941452385892334, 0.31605753126211533) (0.09561095307787389, 0.08056242708623874)\n"
     ]
    },
    {
     "name": "stderr",
     "output_type": "stream",
     "text": [
      "100%|██████████| 63/63 [12:52<00:00, 12.27s/it]"
     ]
    },
    {
     "name": "stdout",
     "output_type": "stream",
     "text": [
      "Mars_Final (-0.005847673765957609, 0.9150818338475433) (-0.012823146555957725, 0.8151134867633889)\n"
     ]
    },
    {
     "name": "stderr",
     "output_type": "stream",
     "text": [
      "\n"
     ]
    }
   ],
   "source": [
    "beh_cpm_linear = {}\n",
    "\n",
    "CPM_FC_linear = CPM_TOTAL.CPM(5,subjlist,\"linear\")\n",
    "\n",
    "for beh in tqdm(beh_list.columns[3:]):\n",
    "    predict_pheno_p,predict_pheno_n, ratio_p, ratio_n = CPM_FC_linear.train(fc_list,beh_list[beh],0.01)\n",
    "    \n",
    "    true_behavior = np.array([float(i) for i in beh_list[beh]])\n",
    "    \n",
    "    pearson_p = stats.pearsonr(predict_pheno_p[0], true_behavior)\n",
    "    pearson_n = stats.pearsonr(predict_pheno_n[0], true_behavior)\n",
    "    \n",
    "    print(beh, pearson_p,pearson_n)\n",
    "    beh_cpm_linear[beh] = [pearson_p, pearson_n, np.mean(ratio_p),np.mean(ratio_n)]\n",
    "    \n",
    "    "
   ]
  },
  {
   "cell_type": "code",
   "execution_count": 21,
   "metadata": {
    "collapsed": true,
    "jupyter": {
     "outputs_hidden": true
    }
   },
   "outputs": [
    {
     "name": "stderr",
     "output_type": "stream",
     "text": [
      "  2%|▏         | 1/63 [00:12<13:14, 12.81s/it]"
     ]
    },
    {
     "name": "stdout",
     "output_type": "stream",
     "text": [
      "MMSE_Score (-0.09987261298248097, 0.06789493105696501) (0.04282838318170609, 0.4346162518922699)\n"
     ]
    },
    {
     "name": "stderr",
     "output_type": "stream",
     "text": [
      "  3%|▎         | 2/63 [00:25<13:06, 12.90s/it]"
     ]
    },
    {
     "name": "stdout",
     "output_type": "stream",
     "text": [
      "PSQI_Score (0.08628449758721013, 0.11495582572729401) (0.09846505543865877, 0.07188492127057262)\n"
     ]
    },
    {
     "name": "stderr",
     "output_type": "stream",
     "text": [
      "  5%|▍         | 3/63 [00:37<12:21, 12.36s/it]"
     ]
    },
    {
     "name": "stdout",
     "output_type": "stream",
     "text": [
      "PicSeq_Unadj (0.19577877611443434, 0.00031228204775473776) (0.1776464919371413, 0.001093400291574976)\n"
     ]
    },
    {
     "name": "stderr",
     "output_type": "stream",
     "text": [
      "  6%|▋         | 4/63 [00:49<12:18, 12.51s/it]"
     ]
    },
    {
     "name": "stdout",
     "output_type": "stream",
     "text": [
      "CardSort_Unadj (0.11267472053885025, 0.03928915608216878) (0.21319440435279285, 8.395500818386929e-05)\n"
     ]
    },
    {
     "name": "stderr",
     "output_type": "stream",
     "text": [
      "  8%|▊         | 5/63 [01:02<11:59, 12.40s/it]"
     ]
    },
    {
     "name": "stdout",
     "output_type": "stream",
     "text": [
      "Flanker_Unadj (-0.033278075487708794, 0.5438639856166951) (-0.04753617031712335, 0.38578143096968187)\n"
     ]
    },
    {
     "name": "stderr",
     "output_type": "stream",
     "text": [
      " 10%|▉         | 6/63 [01:12<11:14, 11.83s/it]"
     ]
    },
    {
     "name": "stdout",
     "output_type": "stream",
     "text": [
      "PMAT24_A_CR (0.1773271842003551, 0.0011166502698431238) (0.22777867911959204, 2.5660776085931006e-05)\n"
     ]
    },
    {
     "name": "stderr",
     "output_type": "stream",
     "text": [
      " 11%|█         | 7/63 [01:25<11:20, 12.16s/it]"
     ]
    },
    {
     "name": "stdout",
     "output_type": "stream",
     "text": [
      "ReadEng_Unadj (0.20732481250476306, 0.0001323238343576174) (0.27849199967478894, 2.2064808917295572e-07)\n"
     ]
    },
    {
     "name": "stderr",
     "output_type": "stream",
     "text": [
      " 13%|█▎        | 8/63 [01:38<11:15, 12.28s/it]"
     ]
    },
    {
     "name": "stdout",
     "output_type": "stream",
     "text": [
      "PicVocab_Unadj (0.05330863087698325, 0.33067606675344674) (0.13418764906736316, 0.013971962429294072)\n"
     ]
    },
    {
     "name": "stderr",
     "output_type": "stream",
     "text": [
      " 14%|█▍        | 9/63 [01:50<11:01, 12.25s/it]"
     ]
    },
    {
     "name": "stdout",
     "output_type": "stream",
     "text": [
      "ProcSpeed_Unadj (0.04674851345769588, 0.39371114941291047) (0.1463097092361972, 0.00731075410112064)\n"
     ]
    },
    {
     "name": "stderr",
     "output_type": "stream",
     "text": [
      " 16%|█▌        | 10/63 [02:02<10:43, 12.13s/it]"
     ]
    },
    {
     "name": "stdout",
     "output_type": "stream",
     "text": [
      "DDisc_AUC_40K (0.006028723026871928, 0.9124630590500166) (0.11540527759938464, 0.03473556454748678)\n"
     ]
    },
    {
     "name": "stderr",
     "output_type": "stream",
     "text": [
      " 17%|█▋        | 11/63 [02:14<10:33, 12.18s/it]"
     ]
    },
    {
     "name": "stdout",
     "output_type": "stream",
     "text": [
      "VSPLOT_TC (0.16154927739992994, 0.0030240098533568897) (0.1723357219453151, 0.0015444813661589052)\n"
     ]
    },
    {
     "name": "stderr",
     "output_type": "stream",
     "text": [
      " 19%|█▉        | 12/63 [02:25<10:05, 11.87s/it]"
     ]
    },
    {
     "name": "stdout",
     "output_type": "stream",
     "text": [
      "SCPT_TP (0.03838811251716143, 0.48377134258274407) (0.030444891627713407, 0.5787038810255963)\n"
     ]
    },
    {
     "name": "stderr",
     "output_type": "stream",
     "text": [
      " 21%|██        | 13/63 [02:38<10:04, 12.09s/it]"
     ]
    },
    {
     "name": "stdout",
     "output_type": "stream",
     "text": [
      "SCPT_TN (0.015905127684870894, 0.7717842010496454) (0.00441060841752168, 0.9358984171380546)\n"
     ]
    },
    {
     "name": "stderr",
     "output_type": "stream",
     "text": [
      " 22%|██▏       | 14/63 [02:51<10:06, 12.38s/it]"
     ]
    },
    {
     "name": "stdout",
     "output_type": "stream",
     "text": [
      "SCPT_FP (0.004410608417521944, 0.9358984171380604) (0.015905127684870894, 0.7717842010496454)\n"
     ]
    },
    {
     "name": "stderr",
     "output_type": "stream",
     "text": [
      " 24%|██▍       | 15/63 [03:03<09:59, 12.50s/it]"
     ]
    },
    {
     "name": "stdout",
     "output_type": "stream",
     "text": [
      "SCPT_FN (0.030444891627713393, 0.5787038810255963) (0.038388112517161344, 0.4837713425827398)\n"
     ]
    },
    {
     "name": "stderr",
     "output_type": "stream",
     "text": [
      " 25%|██▌       | 16/63 [03:15<09:40, 12.34s/it]"
     ]
    },
    {
     "name": "stdout",
     "output_type": "stream",
     "text": [
      "SCPT_SEN (0.0384109397028074, 0.48351119019472644) (0.03047638125390474, 0.5783109803771882)\n"
     ]
    },
    {
     "name": "stderr",
     "output_type": "stream",
     "text": [
      " 27%|██▋       | 17/63 [03:27<09:13, 12.04s/it]"
     ]
    },
    {
     "name": "stdout",
     "output_type": "stream",
     "text": [
      "SCPT_SPEC (0.012737814450315806, 0.8163218774297661) (0.003746825256227715, 0.9455292536046295)\n"
     ]
    },
    {
     "name": "stderr",
     "output_type": "stream",
     "text": [
      " 29%|██▊       | 18/63 [03:39<08:58, 11.97s/it]"
     ]
    },
    {
     "name": "stdout",
     "output_type": "stream",
     "text": [
      "SCPT_LRNR (0.06755913517072906, 0.21745533689780402) (0.07649660487473627, 0.16243399877278913)\n"
     ]
    },
    {
     "name": "stderr",
     "output_type": "stream",
     "text": [
      " 30%|███       | 19/63 [03:50<08:42, 11.87s/it]"
     ]
    },
    {
     "name": "stdout",
     "output_type": "stream",
     "text": [
      "IWRD_TOT (0.06647937031302734, 0.2249130535725326) (0.05069957722645563, 0.35492366557859595)\n"
     ]
    },
    {
     "name": "stderr",
     "output_type": "stream",
     "text": [
      " 32%|███▏      | 20/63 [04:02<08:31, 11.90s/it]"
     ]
    },
    {
     "name": "stdout",
     "output_type": "stream",
     "text": [
      "ListSort_Unadj (0.0757223086764405, 0.16674109982851298) (0.14535174512533058, 0.007708109895235065)\n"
     ]
    },
    {
     "name": "stderr",
     "output_type": "stream",
     "text": [
      " 33%|███▎      | 21/63 [04:15<08:29, 12.14s/it]"
     ]
    },
    {
     "name": "stdout",
     "output_type": "stream",
     "text": [
      "ER40_CR (0.14392253623333948, 0.008336780273545182) (0.02498339691289423, 0.6486537654482154)\n"
     ]
    },
    {
     "name": "stderr",
     "output_type": "stream",
     "text": [
      " 35%|███▍      | 22/63 [04:27<08:14, 12.05s/it]"
     ]
    },
    {
     "name": "stdout",
     "output_type": "stream",
     "text": [
      "ER40ANG (0.00305300880695563, 0.9556042988170077) (-0.050018510435508964, 0.36143267042008215)\n"
     ]
    },
    {
     "name": "stderr",
     "output_type": "stream",
     "text": [
      " 37%|███▋      | 23/63 [04:38<07:59, 11.98s/it]"
     ]
    },
    {
     "name": "stdout",
     "output_type": "stream",
     "text": [
      "ER40FEAR (-0.0041595757001346295, 0.9395396318478105) (-0.08414353822993575, 0.12428103809180358)\n"
     ]
    },
    {
     "name": "stderr",
     "output_type": "stream",
     "text": [
      " 38%|███▊      | 24/63 [04:51<07:52, 12.13s/it]"
     ]
    },
    {
     "name": "stdout",
     "output_type": "stream",
     "text": [
      "ER40HAP (0.007194006330187526, 0.8956317508843904) (-0.125910417049871, 0.02116063444827356)\n"
     ]
    },
    {
     "name": "stderr",
     "output_type": "stream",
     "text": [
      " 40%|███▉      | 25/63 [05:04<07:48, 12.34s/it]"
     ]
    },
    {
     "name": "stdout",
     "output_type": "stream",
     "text": [
      "ER40NOE (0.011835831417387449, 0.8291209427492048) (-0.08663182360331634, 0.11349605619094826)\n"
     ]
    },
    {
     "name": "stderr",
     "output_type": "stream",
     "text": [
      " 41%|████▏     | 26/63 [05:15<07:28, 12.13s/it]"
     ]
    },
    {
     "name": "stdout",
     "output_type": "stream",
     "text": [
      "ER40SAD (-0.1005580358043753, 0.06601865808220721) (-0.10817912134574492, 0.04788227315953446)\n"
     ]
    },
    {
     "name": "stderr",
     "output_type": "stream",
     "text": [
      " 43%|████▎     | 27/63 [05:27<07:06, 11.84s/it]"
     ]
    },
    {
     "name": "stdout",
     "output_type": "stream",
     "text": [
      "AngAffect_Unadj (-0.008420609424334882, 0.877965267675229) (-0.0017622458529726343, 0.9743653005217958)\n"
     ]
    },
    {
     "name": "stderr",
     "output_type": "stream",
     "text": [
      " 44%|████▍     | 28/63 [05:38<06:52, 11.78s/it]"
     ]
    },
    {
     "name": "stdout",
     "output_type": "stream",
     "text": [
      "AngHostil_Unadj (-0.1061917254943196, 0.05215443917381534) (-0.024371930692077368, 0.6566968397591014)\n"
     ]
    },
    {
     "name": "stderr",
     "output_type": "stream",
     "text": [
      " 46%|████▌     | 29/63 [05:52<06:55, 12.22s/it]"
     ]
    },
    {
     "name": "stdout",
     "output_type": "stream",
     "text": [
      "AngAggr_Unadj (0.24006952493162367, 8.883329077610566e-06) (0.19381239812338655, 0.00035974459566769735)\n"
     ]
    },
    {
     "name": "stderr",
     "output_type": "stream",
     "text": [
      " 48%|████▊     | 30/63 [06:03<06:39, 12.11s/it]"
     ]
    },
    {
     "name": "stdout",
     "output_type": "stream",
     "text": [
      "FearAffect_Unadj (0.11547268399134274, 0.034629083942183975) (0.03107801931412705, 0.5708283483989273)\n"
     ]
    },
    {
     "name": "stderr",
     "output_type": "stream",
     "text": [
      " 49%|████▉     | 31/63 [06:15<06:26, 12.09s/it]"
     ]
    },
    {
     "name": "stdout",
     "output_type": "stream",
     "text": [
      "FearSomat_Unadj (0.07159454686973271, 0.1911531427530895) (0.08916987711278428, 0.10326574432756935)\n"
     ]
    },
    {
     "name": "stderr",
     "output_type": "stream",
     "text": [
      " 51%|█████     | 32/63 [06:27<06:08, 11.88s/it]"
     ]
    },
    {
     "name": "stdout",
     "output_type": "stream",
     "text": [
      "Sadness_Unadj (-0.07076281541004634, 0.19637403715096993) (-0.0976323612578599, 0.07433402453068454)\n"
     ]
    },
    {
     "name": "stderr",
     "output_type": "stream",
     "text": [
      " 52%|█████▏    | 33/63 [06:40<06:07, 12.25s/it]"
     ]
    },
    {
     "name": "stdout",
     "output_type": "stream",
     "text": [
      "LifeSatisf_Unadj (0.13581348449794778, 0.012844856491215407) (0.11035904773966633, 0.04353694855529223)\n"
     ]
    },
    {
     "name": "stderr",
     "output_type": "stream",
     "text": [
      " 54%|█████▍    | 34/63 [06:53<05:59, 12.39s/it]"
     ]
    },
    {
     "name": "stdout",
     "output_type": "stream",
     "text": [
      "MeanPurp_Unadj (0.16059712609110643, 0.0032027337318509446) (0.1687681437896164, 0.0019372852344144746)\n"
     ]
    },
    {
     "name": "stderr",
     "output_type": "stream",
     "text": [
      " 56%|█████▌    | 35/63 [07:05<05:47, 12.41s/it]"
     ]
    },
    {
     "name": "stdout",
     "output_type": "stream",
     "text": [
      "PosAffect_Unadj (0.030683594885892753, 0.5757286650981276) (0.032232669924607826, 0.5565978079481567)\n"
     ]
    },
    {
     "name": "stderr",
     "output_type": "stream",
     "text": [
      " 57%|█████▋    | 36/63 [07:16<05:25, 12.06s/it]"
     ]
    },
    {
     "name": "stdout",
     "output_type": "stream",
     "text": [
      "Friendship_Unadj (0.12582856086147304, 0.02124536388368417) (-0.03062675436272729, 0.5764364771326862)\n"
     ]
    },
    {
     "name": "stderr",
     "output_type": "stream",
     "text": [
      " 59%|█████▊    | 37/63 [07:28<05:10, 11.95s/it]"
     ]
    },
    {
     "name": "stdout",
     "output_type": "stream",
     "text": [
      "Loneliness_Unadj (-0.0040013555340595724, 0.9418352574700017) (-0.08411738875399072, 0.12439846250983061)\n"
     ]
    },
    {
     "name": "stderr",
     "output_type": "stream",
     "text": [
      " 60%|██████    | 38/63 [07:40<04:56, 11.88s/it]"
     ]
    },
    {
     "name": "stdout",
     "output_type": "stream",
     "text": [
      "PercHostil_Unadj (0.006960940992017002, 0.8989946443538173) (-0.05250942374958032, 0.33798756871692287)\n"
     ]
    },
    {
     "name": "stderr",
     "output_type": "stream",
     "text": [
      " 62%|██████▏   | 39/63 [07:52<04:48, 12.03s/it]"
     ]
    },
    {
     "name": "stdout",
     "output_type": "stream",
     "text": [
      "PercReject_Unadj (0.030407019232948453, 0.5791765857252874) (0.2109551134826148, 0.00010001661239113303)\n"
     ]
    },
    {
     "name": "stderr",
     "output_type": "stream",
     "text": [
      " 63%|██████▎   | 40/63 [08:04<04:34, 11.92s/it]"
     ]
    },
    {
     "name": "stdout",
     "output_type": "stream",
     "text": [
      "EmotSupp_Unadj (0.1630911172452168, 0.002753723186445066) (0.04021636170154741, 0.463176814568882)\n"
     ]
    },
    {
     "name": "stderr",
     "output_type": "stream",
     "text": [
      " 65%|██████▌   | 41/63 [08:16<04:26, 12.13s/it]"
     ]
    },
    {
     "name": "stdout",
     "output_type": "stream",
     "text": [
      "InstruSupp_Unadj (0.17255327560706868, 0.001523071954619762) (0.11260696348322982, 0.03940828014172996)\n"
     ]
    },
    {
     "name": "stderr",
     "output_type": "stream",
     "text": [
      " 67%|██████▋   | 42/63 [08:28<04:12, 12.00s/it]"
     ]
    },
    {
     "name": "stdout",
     "output_type": "stream",
     "text": [
      "PercStress_Unadj (-0.08302711155120668, 0.12937145708413728) (0.025580716094640674, 0.640835966246355)\n"
     ]
    },
    {
     "name": "stderr",
     "output_type": "stream",
     "text": [
      " 68%|██████▊   | 43/63 [08:40<04:01, 12.10s/it]"
     ]
    },
    {
     "name": "stdout",
     "output_type": "stream",
     "text": [
      "SelfEff_Unadj (0.10606660741651877, 0.05243369196955178) (-0.019177165818090557, 0.726548860888167)\n"
     ]
    },
    {
     "name": "stderr",
     "output_type": "stream",
     "text": [
      " 70%|██████▉   | 44/63 [08:53<03:53, 12.27s/it]"
     ]
    },
    {
     "name": "stdout",
     "output_type": "stream",
     "text": [
      "Emotion_Task_Face_Acc (0.01280947286559167, 0.8153070909534912) (0.02062797358627705, 0.7067810519912933)\n"
     ]
    },
    {
     "name": "stderr",
     "output_type": "stream",
     "text": [
      " 71%|███████▏  | 45/63 [09:06<03:41, 12.32s/it]"
     ]
    },
    {
     "name": "stdout",
     "output_type": "stream",
     "text": [
      "Language_Task_Story_Avg_Difficulty_Level (0.06741628216333112, 0.21843170421505975) (0.16331949836418658, 0.0027156113629172355)\n"
     ]
    },
    {
     "name": "stderr",
     "output_type": "stream",
     "text": [
      " 73%|███████▎  | 46/63 [09:18<03:29, 12.32s/it]"
     ]
    },
    {
     "name": "stdout",
     "output_type": "stream",
     "text": [
      "Language_Task_Math_Avg_Difficulty_Level (0.09864304239970102, 0.07137005984636167) (0.10685438400949043, 0.05069601070364875)\n"
     ]
    },
    {
     "name": "stderr",
     "output_type": "stream",
     "text": [
      " 75%|███████▍  | 47/63 [09:31<03:20, 12.55s/it]"
     ]
    },
    {
     "name": "stdout",
     "output_type": "stream",
     "text": [
      "Relational_Task_Acc (0.16532757992364971, 0.0024005973108369317) (0.2255202534787988, 3.0990616975253e-05)\n"
     ]
    },
    {
     "name": "stderr",
     "output_type": "stream",
     "text": [
      " 76%|███████▌  | 48/63 [09:43<03:04, 12.28s/it]"
     ]
    },
    {
     "name": "stdout",
     "output_type": "stream",
     "text": [
      "Social_Task_Perc_Random (0.01129301289734363, 0.8368455444385846) (-0.05544726531167122, 0.3116160444888546)\n"
     ]
    },
    {
     "name": "stderr",
     "output_type": "stream",
     "text": [
      " 78%|███████▊  | 49/63 [09:55<02:53, 12.37s/it]"
     ]
    },
    {
     "name": "stdout",
     "output_type": "stream",
     "text": [
      "Social_Task_Perc_TOM (0.10299538554764573, 0.05968821399007824) (0.16409011388754852, 0.002590526336306413)\n"
     ]
    },
    {
     "name": "stderr",
     "output_type": "stream",
     "text": [
      " 79%|███████▉  | 50/63 [10:07<02:39, 12.27s/it]"
     ]
    },
    {
     "name": "stdout",
     "output_type": "stream",
     "text": [
      "WM_Task_Acc (0.14012338933326102, 0.01023540534620506) (0.1825105559982514, 0.0007901043031274545)\n"
     ]
    },
    {
     "name": "stderr",
     "output_type": "stream",
     "text": [
      " 81%|████████  | 51/63 [10:19<02:26, 12.19s/it]"
     ]
    },
    {
     "name": "stdout",
     "output_type": "stream",
     "text": [
      "Endurance_Unadj (0.1746611454081215, 0.0013292869449208645) (0.148782849607057, 0.006368191118416779)\n"
     ]
    },
    {
     "name": "stderr",
     "output_type": "stream",
     "text": [
      " 83%|████████▎ | 52/63 [10:32<02:15, 12.32s/it]"
     ]
    },
    {
     "name": "stdout",
     "output_type": "stream",
     "text": [
      "GaitSpeed_Comp (0.11270515721539788, 0.03923574434171863) (0.12651439360982353, 0.02054446685253868)\n"
     ]
    },
    {
     "name": "stderr",
     "output_type": "stream",
     "text": [
      " 84%|████████▍ | 53/63 [10:44<02:03, 12.32s/it]"
     ]
    },
    {
     "name": "stdout",
     "output_type": "stream",
     "text": [
      "Dexterity_Unadj (0.14416816293212315, 0.008225589122252365) (0.15814914940096136, 0.0037070554038220955)\n"
     ]
    },
    {
     "name": "stderr",
     "output_type": "stream",
     "text": [
      " 86%|████████▌ | 54/63 [10:58<01:55, 12.82s/it]"
     ]
    },
    {
     "name": "stdout",
     "output_type": "stream",
     "text": [
      "Strength_Unadj (0.3920589428465394, 9.377845779680436e-14) (0.381182545632302, 4.999315017713282e-13)\n"
     ]
    },
    {
     "name": "stderr",
     "output_type": "stream",
     "text": [
      " 87%|████████▋ | 55/63 [11:11<01:42, 12.85s/it]"
     ]
    },
    {
     "name": "stdout",
     "output_type": "stream",
     "text": [
      "NEOFAC_A (0.20460592434155406, 0.00016267660815079876) (0.15325152002619347, 0.0049371954697083635)\n"
     ]
    },
    {
     "name": "stderr",
     "output_type": "stream",
     "text": [
      " 89%|████████▉ | 56/63 [11:22<01:25, 12.16s/it]"
     ]
    },
    {
     "name": "stdout",
     "output_type": "stream",
     "text": [
      "NEOFAC_O (0.07955761597903378, 0.1462224385778806) (0.12260011394918825, 0.024830152554195375)\n"
     ]
    },
    {
     "name": "stderr",
     "output_type": "stream",
     "text": [
      " 90%|█████████ | 57/63 [11:33<01:11, 11.86s/it]"
     ]
    },
    {
     "name": "stdout",
     "output_type": "stream",
     "text": [
      "NEOFAC_C (0.04030557862008152, 0.46218442513133046) (0.009333359395343764, 0.864857793638478)\n"
     ]
    },
    {
     "name": "stderr",
     "output_type": "stream",
     "text": [
      " 92%|█████████▏| 58/63 [11:44<00:58, 11.67s/it]"
     ]
    },
    {
     "name": "stdout",
     "output_type": "stream",
     "text": [
      "NEOFAC_N (-0.12606925268101232, 0.02099705921898512) (-0.014037346200582189, 0.7979678973105927)\n"
     ]
    },
    {
     "name": "stderr",
     "output_type": "stream",
     "text": [
      " 94%|█████████▎| 59/63 [11:56<00:47, 11.79s/it]"
     ]
    },
    {
     "name": "stdout",
     "output_type": "stream",
     "text": [
      "NEOFAC_E (0.10266873155888509, 0.06050636511997729) (0.14370274192717564, 0.008437410228815214)\n"
     ]
    },
    {
     "name": "stderr",
     "output_type": "stream",
     "text": [
      " 95%|█████████▌| 60/63 [12:08<00:35, 11.96s/it]"
     ]
    },
    {
     "name": "stdout",
     "output_type": "stream",
     "text": [
      "Odor_Unadj (0.010426011010638609, 0.8492156986179858) (0.020102188480886126, 0.7139231746411597)\n"
     ]
    },
    {
     "name": "stderr",
     "output_type": "stream",
     "text": [
      " 97%|█████████▋| 61/63 [12:20<00:23, 11.98s/it]"
     ]
    },
    {
     "name": "stdout",
     "output_type": "stream",
     "text": [
      "PainInterf_Tscore (0.12360656455014417, 0.023660437907677828) (0.10586276778170998, 0.05289130926198189)\n"
     ]
    },
    {
     "name": "stderr",
     "output_type": "stream",
     "text": [
      " 98%|█████████▊| 62/63 [12:33<00:12, 12.05s/it]"
     ]
    },
    {
     "name": "stdout",
     "output_type": "stream",
     "text": [
      "Taste_Unadj (0.054941452385892334, 0.31605753126211533) (0.09561095307787389, 0.08056242708623874)\n"
     ]
    },
    {
     "name": "stderr",
     "output_type": "stream",
     "text": [
      "100%|██████████| 63/63 [12:44<00:00, 12.14s/it]"
     ]
    },
    {
     "name": "stdout",
     "output_type": "stream",
     "text": [
      "Mars_Final (-0.005847673765957609, 0.9150818338475433) (-0.012823146555957725, 0.8151134867633889)\n"
     ]
    },
    {
     "name": "stderr",
     "output_type": "stream",
     "text": [
      "\n"
     ]
    }
   ],
   "source": [
    "beh_cpm_lasso = {}\n",
    "\n",
    "CPM_FC_lasso = CPM_TOTAL.CPM(5,subjlist,\"Lasso\")\n",
    "\n",
    "for beh in tqdm(beh_list.columns[3:]):\n",
    "    predict_pheno_p,predict_pheno_n, ratio_p, ratio_n = CPM_FC_linear.train(fc_list,beh_list[beh],0.01)\n",
    "    \n",
    "    true_behavior = np.array([float(i) for i in beh_list[beh]])\n",
    "    \n",
    "    pearson_p = stats.pearsonr(predict_pheno_p[0], true_behavior)\n",
    "    pearson_n = stats.pearsonr(predict_pheno_n[0], true_behavior)\n",
    "    \n",
    "    print(beh, pearson_p,pearson_n)\n",
    "    beh_cpm_lasso[beh] = [pearson_p, pearson_n, np.mean(ratio_p),np.mean(ratio_n)]\n",
    "    \n",
    "    "
   ]
  },
  {
   "cell_type": "code",
   "execution_count": null,
   "metadata": {},
   "outputs": [],
   "source": []
  },
  {
   "cell_type": "code",
   "execution_count": 76,
   "metadata": {
    "collapsed": true,
    "jupyter": {
     "outputs_hidden": true
    }
   },
   "outputs": [
    {
     "name": "stderr",
     "output_type": "stream",
     "text": [
      "  2%|▏         | 1/63 [00:27<28:40, 27.74s/it]"
     ]
    },
    {
     "name": "stdout",
     "output_type": "stream",
     "text": [
      "MMSE_Score (-0.09992832217091452, 0.0677408205585919) (0.11792392770505969, 0.030941123789836426)\n"
     ]
    },
    {
     "name": "stderr",
     "output_type": "stream",
     "text": [
      "  3%|▎         | 2/63 [00:55<28:06, 27.65s/it]"
     ]
    },
    {
     "name": "stdout",
     "output_type": "stream",
     "text": [
      "PSQI_Score (0.12214560764523699, 0.02537452095739244) (0.10353741313402003, 0.05835079739827312)\n"
     ]
    },
    {
     "name": "stderr",
     "output_type": "stream",
     "text": [
      "  5%|▍         | 3/63 [01:22<27:29, 27.50s/it]"
     ]
    },
    {
     "name": "stdout",
     "output_type": "stream",
     "text": [
      "PicSeq_Unadj (0.1898484751629143, 0.0004764922426144084) (0.17734508681393985, 0.0011153347671454161)\n"
     ]
    },
    {
     "name": "stderr",
     "output_type": "stream",
     "text": [
      "  6%|▋         | 4/63 [01:48<26:41, 27.14s/it]"
     ]
    },
    {
     "name": "stdout",
     "output_type": "stream",
     "text": [
      "CardSort_Unadj (0.13790026065227956, 0.011516033863032753) (0.19969244008794643, 0.00023467709943289053)\n"
     ]
    },
    {
     "name": "stderr",
     "output_type": "stream",
     "text": [
      "  8%|▊         | 5/63 [02:12<25:20, 26.22s/it]"
     ]
    },
    {
     "name": "stdout",
     "output_type": "stream",
     "text": [
      "Flanker_Unadj (-0.04049992839267998, 0.4600267030662526) (-0.0982659270946224, 0.07246452380142238)\n"
     ]
    },
    {
     "name": "stderr",
     "output_type": "stream",
     "text": [
      " 10%|▉         | 6/63 [02:39<25:06, 26.43s/it]"
     ]
    },
    {
     "name": "stdout",
     "output_type": "stream",
     "text": [
      "PMAT24_A_CR (0.16508225815148853, 0.002437209680265408) (0.21893483105792938, 5.315062563710667e-05)\n"
     ]
    },
    {
     "name": "stderr",
     "output_type": "stream",
     "text": [
      " 11%|█         | 7/63 [03:05<24:37, 26.39s/it]"
     ]
    },
    {
     "name": "stdout",
     "output_type": "stream",
     "text": [
      "ReadEng_Unadj (0.20468474286241156, 0.00016171171125984885) (0.26802595354296604, 6.400233769166317e-07)\n"
     ]
    },
    {
     "name": "stderr",
     "output_type": "stream",
     "text": [
      " 13%|█▎        | 8/63 [03:31<23:55, 26.10s/it]"
     ]
    },
    {
     "name": "stdout",
     "output_type": "stream",
     "text": [
      "PicVocab_Unadj (0.11409717538291653, 0.03685772365142219) (0.12656302986474047, 0.020495533469309598)\n"
     ]
    },
    {
     "name": "stderr",
     "output_type": "stream",
     "text": [
      " 14%|█▍        | 9/63 [03:55<23:02, 25.60s/it]"
     ]
    },
    {
     "name": "stdout",
     "output_type": "stream",
     "text": [
      "ProcSpeed_Unadj (0.03034993643656905, 0.5798894060455673) (0.13519412572318384, 0.013264415954027664)\n"
     ]
    },
    {
     "name": "stderr",
     "output_type": "stream",
     "text": [
      " 16%|█▌        | 10/63 [04:18<21:46, 24.64s/it]"
     ]
    },
    {
     "name": "stdout",
     "output_type": "stream",
     "text": [
      "DDisc_AUC_40K (0.017393394972468924, 0.7511028720854012) (0.09289414981770841, 0.08959095562477513)\n"
     ]
    },
    {
     "name": "stderr",
     "output_type": "stream",
     "text": [
      " 17%|█▋        | 11/63 [04:43<21:37, 24.95s/it]"
     ]
    },
    {
     "name": "stdout",
     "output_type": "stream",
     "text": [
      "VSPLOT_TC (0.14495315596902786, 0.007879040510526307) (0.1758747626646153, 0.0012282594302512912)\n"
     ]
    },
    {
     "name": "stderr",
     "output_type": "stream",
     "text": [
      " 19%|█▉        | 12/63 [05:09<21:22, 25.14s/it]"
     ]
    },
    {
     "name": "stdout",
     "output_type": "stream",
     "text": [
      "SCPT_TP (-0.01074370290001519, 0.8446784944115358) (0.015186288451857445, 0.781832506188089)\n"
     ]
    },
    {
     "name": "stderr",
     "output_type": "stream",
     "text": [
      " 21%|██        | 13/63 [05:32<20:32, 24.64s/it]"
     ]
    },
    {
     "name": "stdout",
     "output_type": "stream",
     "text": [
      "SCPT_TN (-0.058413437894271295, 0.28639843147854777) (-0.050101629359784114, 0.36063432909646304)\n"
     ]
    },
    {
     "name": "stderr",
     "output_type": "stream",
     "text": [
      " 22%|██▏       | 14/63 [05:57<20:01, 24.52s/it]"
     ]
    },
    {
     "name": "stdout",
     "output_type": "stream",
     "text": [
      "SCPT_FP (-0.05010162935978367, 0.3606343290964645) (-0.0584134378942705, 0.28639843147856114)\n"
     ]
    },
    {
     "name": "stderr",
     "output_type": "stream",
     "text": [
      " 24%|██▍       | 15/63 [06:19<19:12, 24.01s/it]"
     ]
    },
    {
     "name": "stdout",
     "output_type": "stream",
     "text": [
      "SCPT_FN (0.015186288451857363, 0.7818325061881046) (-0.010743702900015346, 0.844678494411493)\n"
     ]
    },
    {
     "name": "stderr",
     "output_type": "stream",
     "text": [
      " 25%|██▌       | 16/63 [06:44<19:00, 24.26s/it]"
     ]
    },
    {
     "name": "stdout",
     "output_type": "stream",
     "text": [
      "SCPT_SEN (-0.010719255027157214, 0.8450274733253502) (0.01566029066458874, 0.7752024748715076)\n"
     ]
    },
    {
     "name": "stderr",
     "output_type": "stream",
     "text": [
      " 27%|██▋       | 17/63 [07:08<18:25, 24.03s/it]"
     ]
    },
    {
     "name": "stdout",
     "output_type": "stream",
     "text": [
      "SCPT_SPEC (-0.05838176313986869, 0.2866602582852934) (-0.04956919691738607, 0.3657673140231867)\n"
     ]
    },
    {
     "name": "stderr",
     "output_type": "stream",
     "text": [
      " 29%|██▊       | 18/63 [07:34<18:24, 24.54s/it]"
     ]
    },
    {
     "name": "stdout",
     "output_type": "stream",
     "text": [
      "SCPT_LRNR (0.0247777766350725, 0.6513539526802106) (0.028919340778160354, 0.5978861716116478)\n"
     ]
    },
    {
     "name": "stderr",
     "output_type": "stream",
     "text": [
      " 30%|███       | 19/63 [07:58<18:00, 24.56s/it]"
     ]
    },
    {
     "name": "stdout",
     "output_type": "stream",
     "text": [
      "IWRD_TOT (-0.031393622794801186, 0.5669215967049548) (0.03779043291490276, 0.49060968649688935)\n"
     ]
    },
    {
     "name": "stderr",
     "output_type": "stream",
     "text": [
      " 32%|███▏      | 20/63 [08:23<17:38, 24.62s/it]"
     ]
    },
    {
     "name": "stdout",
     "output_type": "stream",
     "text": [
      "ListSort_Unadj (0.04800531811551109, 0.3811047854377515) (0.11233155498034728, 0.039895624022080606)\n"
     ]
    },
    {
     "name": "stderr",
     "output_type": "stream",
     "text": [
      " 33%|███▎      | 21/63 [08:48<17:21, 24.81s/it]"
     ]
    },
    {
     "name": "stdout",
     "output_type": "stream",
     "text": [
      "ER40_CR (0.142556149310294, 0.008980100370072125) (0.07945832875119202, 0.14672817429520885)\n"
     ]
    },
    {
     "name": "stderr",
     "output_type": "stream",
     "text": [
      " 35%|███▍      | 22/63 [09:12<16:49, 24.63s/it]"
     ]
    },
    {
     "name": "stdout",
     "output_type": "stream",
     "text": [
      "ER40ANG (0.004527335953226738, 0.9342057410001896) (-0.0261268396265893, 0.6337227413421346)\n"
     ]
    },
    {
     "name": "stderr",
     "output_type": "stream",
     "text": [
      " 37%|███▋      | 23/63 [09:37<16:26, 24.66s/it]"
     ]
    },
    {
     "name": "stdout",
     "output_type": "stream",
     "text": [
      "ER40FEAR (0.036267039069504514, 0.5082709710585129) (-0.06630656982499267, 0.22612323552320943)\n"
     ]
    },
    {
     "name": "stderr",
     "output_type": "stream",
     "text": [
      " 38%|███▊      | 24/63 [10:01<15:56, 24.53s/it]"
     ]
    },
    {
     "name": "stdout",
     "output_type": "stream",
     "text": [
      "ER40HAP (0.0273595435341592, 0.6177909670405076) (-0.09869981213150784, 0.07120647677345851)\n"
     ]
    },
    {
     "name": "stderr",
     "output_type": "stream",
     "text": [
      " 40%|███▉      | 25/63 [10:26<15:29, 24.46s/it]"
     ]
    },
    {
     "name": "stdout",
     "output_type": "stream",
     "text": [
      "ER40NOE (0.04596622407545845, 0.4016832895816395) (-0.062471560122230305, 0.2541790256868031)\n"
     ]
    },
    {
     "name": "stderr",
     "output_type": "stream",
     "text": [
      " 41%|████▏     | 26/63 [10:50<15:07, 24.54s/it]"
     ]
    },
    {
     "name": "stdout",
     "output_type": "stream",
     "text": [
      "ER40SAD (-0.08103407048976022, 0.13885769693526884) (-0.1857747432908585, 0.0006324054075762608)\n"
     ]
    },
    {
     "name": "stderr",
     "output_type": "stream",
     "text": [
      " 43%|████▎     | 27/63 [11:13<14:26, 24.07s/it]"
     ]
    },
    {
     "name": "stdout",
     "output_type": "stream",
     "text": [
      "AngAffect_Unadj (0.0005649750610533938, 0.9917802660258728) (-0.007643637846116609, 0.8891493540259252)\n"
     ]
    },
    {
     "name": "stderr",
     "output_type": "stream",
     "text": [
      " 44%|████▍     | 28/63 [11:36<13:47, 23.65s/it]"
     ]
    },
    {
     "name": "stdout",
     "output_type": "stream",
     "text": [
      "AngHostil_Unadj (-0.18031811107459353, 0.0009156358220117043) (-0.020318255338016518, 0.710985117879289)\n"
     ]
    },
    {
     "name": "stderr",
     "output_type": "stream",
     "text": [
      " 46%|████▌     | 29/63 [12:01<13:41, 24.17s/it]"
     ]
    },
    {
     "name": "stdout",
     "output_type": "stream",
     "text": [
      "AngAggr_Unadj (0.2528756827056943, 2.7657824671092836e-06) (0.22512656355029997, 3.202084700195353e-05)\n"
     ]
    },
    {
     "name": "stderr",
     "output_type": "stream",
     "text": [
      " 48%|████▊     | 30/63 [12:25<13:13, 24.05s/it]"
     ]
    },
    {
     "name": "stdout",
     "output_type": "stream",
     "text": [
      "FearAffect_Unadj (0.11194732092662105, 0.0405840353733668) (0.04994489585511776, 0.36214064465645074)\n"
     ]
    },
    {
     "name": "stderr",
     "output_type": "stream",
     "text": [
      " 49%|████▉     | 31/63 [12:50<12:54, 24.19s/it]"
     ]
    },
    {
     "name": "stdout",
     "output_type": "stream",
     "text": [
      "FearSomat_Unadj (0.07028435161902781, 0.19942414176731962) (0.09468990434314302, 0.08353704312898433)\n"
     ]
    },
    {
     "name": "stderr",
     "output_type": "stream",
     "text": [
      " 51%|█████     | 32/63 [13:14<12:32, 24.28s/it]"
     ]
    },
    {
     "name": "stdout",
     "output_type": "stream",
     "text": [
      "Sadness_Unadj (-0.07558423247647762, 0.16751805949762572) (-0.19418731009082352, 0.0003502068541773957)\n"
     ]
    },
    {
     "name": "stderr",
     "output_type": "stream",
     "text": [
      " 52%|█████▏    | 33/63 [13:41<12:29, 24.99s/it]"
     ]
    },
    {
     "name": "stdout",
     "output_type": "stream",
     "text": [
      "LifeSatisf_Unadj (0.10805553747934221, 0.04813911622338778) (0.0461441934599381, 0.3998612193610647)\n"
     ]
    },
    {
     "name": "stderr",
     "output_type": "stream",
     "text": [
      " 54%|█████▍    | 34/63 [14:07<12:19, 25.50s/it]"
     ]
    },
    {
     "name": "stdout",
     "output_type": "stream",
     "text": [
      "MeanPurp_Unadj (0.15517384340574644, 0.004416178477095894) (0.14037730313452423, 0.010097485282273758)\n"
     ]
    },
    {
     "name": "stderr",
     "output_type": "stream",
     "text": [
      " 56%|█████▌    | 35/63 [14:32<11:45, 25.19s/it]"
     ]
    },
    {
     "name": "stdout",
     "output_type": "stream",
     "text": [
      "PosAffect_Unadj (0.0036966304458999275, 0.946257870702082) (0.054634764524737034, 0.31877057129575787)\n"
     ]
    },
    {
     "name": "stderr",
     "output_type": "stream",
     "text": [
      " 57%|█████▋    | 36/63 [14:58<11:24, 25.36s/it]"
     ]
    },
    {
     "name": "stdout",
     "output_type": "stream",
     "text": [
      "Friendship_Unadj (0.10632542422384209, 0.05185740476239451) (-0.04677203655323038, 0.3934729171570679)\n"
     ]
    },
    {
     "name": "stderr",
     "output_type": "stream",
     "text": [
      " 59%|█████▊    | 37/63 [15:22<10:47, 24.90s/it]"
     ]
    },
    {
     "name": "stdout",
     "output_type": "stream",
     "text": [
      "Loneliness_Unadj (-0.031027098137683312, 0.5714598785859484) (-0.12619766599914656, 0.020865617049563696)\n"
     ]
    },
    {
     "name": "stderr",
     "output_type": "stream",
     "text": [
      " 60%|██████    | 38/63 [15:45<10:08, 24.34s/it]"
     ]
    },
    {
     "name": "stdout",
     "output_type": "stream",
     "text": [
      "PercHostil_Unadj (-0.003960836426980072, 0.9424232296958169) (-0.03780660017035771, 0.49042403086168024)\n"
     ]
    },
    {
     "name": "stderr",
     "output_type": "stream",
     "text": [
      " 62%|██████▏   | 39/63 [16:10<09:52, 24.67s/it]"
     ]
    },
    {
     "name": "stdout",
     "output_type": "stream",
     "text": [
      "PercReject_Unadj (0.023441330107854985, 0.6690138293146831) (0.18531408638237254, 0.0006527375990725903)\n"
     ]
    },
    {
     "name": "stderr",
     "output_type": "stream",
     "text": [
      " 63%|██████▎   | 40/63 [16:35<09:26, 24.64s/it]"
     ]
    },
    {
     "name": "stdout",
     "output_type": "stream",
     "text": [
      "EmotSupp_Unadj (0.12461824725627306, 0.022532917367049387) (0.05826603982528815, 0.28761820672284594)\n"
     ]
    },
    {
     "name": "stderr",
     "output_type": "stream",
     "text": [
      " 65%|██████▌   | 41/63 [17:01<09:11, 25.05s/it]"
     ]
    },
    {
     "name": "stdout",
     "output_type": "stream",
     "text": [
      "InstruSupp_Unadj (0.13378727315415945, 0.014262516237370591) (0.0747761967834859, 0.17211926231322605)\n"
     ]
    },
    {
     "name": "stderr",
     "output_type": "stream",
     "text": [
      " 67%|██████▋   | 42/63 [17:25<08:41, 24.83s/it]"
     ]
    },
    {
     "name": "stdout",
     "output_type": "stream",
     "text": [
      "PercStress_Unadj (-0.15186746017836703, 0.005345921170154145) (0.07041004403369022, 0.19861956267334321)\n"
     ]
    },
    {
     "name": "stderr",
     "output_type": "stream",
     "text": [
      " 68%|██████▊   | 43/63 [17:51<08:21, 25.09s/it]"
     ]
    },
    {
     "name": "stdout",
     "output_type": "stream",
     "text": [
      "SelfEff_Unadj (0.11676524073077328, 0.03264031903183855) (-0.022853465640326615, 0.6768407358986537)\n"
     ]
    },
    {
     "name": "stderr",
     "output_type": "stream",
     "text": [
      " 70%|██████▉   | 44/63 [18:17<08:02, 25.40s/it]"
     ]
    },
    {
     "name": "stdout",
     "output_type": "stream",
     "text": [
      "Emotion_Task_Face_Acc (0.004577032318759826, 0.9334851791020804) (0.048393769732212086, 0.377258892763582)\n"
     ]
    },
    {
     "name": "stderr",
     "output_type": "stream",
     "text": [
      " 71%|███████▏  | 45/63 [18:43<07:43, 25.74s/it]"
     ]
    },
    {
     "name": "stdout",
     "output_type": "stream",
     "text": [
      "Language_Task_Story_Avg_Difficulty_Level (0.06770773851137508, 0.21644298702525233) (0.1832761744762475, 0.0007501546199885728)\n"
     ]
    },
    {
     "name": "stderr",
     "output_type": "stream",
     "text": [
      " 73%|███████▎  | 46/63 [19:09<07:16, 25.69s/it]"
     ]
    },
    {
     "name": "stdout",
     "output_type": "stream",
     "text": [
      "Language_Task_Math_Avg_Difficulty_Level (0.10548869628802919, 0.05373973793497233) (0.10737388490125716, 0.04957657825891523)\n"
     ]
    },
    {
     "name": "stderr",
     "output_type": "stream",
     "text": [
      " 75%|███████▍  | 47/63 [19:32<06:40, 25.06s/it]"
     ]
    },
    {
     "name": "stdout",
     "output_type": "stream",
     "text": [
      "Relational_Task_Acc (0.17357861936160424, 0.0014257844827804326) (0.23588077968996063, 1.2834462729094824e-05)\n"
     ]
    },
    {
     "name": "stderr",
     "output_type": "stream",
     "text": [
      " 76%|███████▌  | 48/63 [19:58<06:17, 25.17s/it]"
     ]
    },
    {
     "name": "stdout",
     "output_type": "stream",
     "text": [
      "Social_Task_Perc_Random (0.02515562605467446, 0.646395599079259) (-0.004591329638260513, 0.9332778881773115)\n"
     ]
    },
    {
     "name": "stderr",
     "output_type": "stream",
     "text": [
      " 78%|███████▊  | 49/63 [20:25<06:01, 25.82s/it]"
     ]
    },
    {
     "name": "stdout",
     "output_type": "stream",
     "text": [
      "Social_Task_Perc_TOM (0.0818192031456959, 0.13505895976720933) (0.16295335269418626, 0.002776947633000962)\n"
     ]
    },
    {
     "name": "stderr",
     "output_type": "stream",
     "text": [
      " 79%|███████▉  | 50/63 [20:50<05:30, 25.46s/it]"
     ]
    },
    {
     "name": "stdout",
     "output_type": "stream",
     "text": [
      "WM_Task_Acc (0.1276399712738576, 0.019437643411881016) (0.1491087934079889, 0.006252452957738758)\n"
     ]
    },
    {
     "name": "stderr",
     "output_type": "stream",
     "text": [
      " 81%|████████  | 51/63 [21:14<04:59, 24.99s/it]"
     ]
    },
    {
     "name": "stdout",
     "output_type": "stream",
     "text": [
      "Endurance_Unadj (0.1771995942889554, 0.0011260671460763645) (0.18057494568937463, 0.0009000330469422825)\n"
     ]
    },
    {
     "name": "stderr",
     "output_type": "stream",
     "text": [
      " 83%|████████▎ | 52/63 [21:39<04:36, 25.14s/it]"
     ]
    },
    {
     "name": "stdout",
     "output_type": "stream",
     "text": [
      "GaitSpeed_Comp (0.12560979039468273, 0.02147325867455826) (0.1445903032671757, 0.008037576420421355)\n"
     ]
    },
    {
     "name": "stderr",
     "output_type": "stream",
     "text": [
      " 84%|████████▍ | 53/63 [22:04<04:10, 25.03s/it]"
     ]
    },
    {
     "name": "stdout",
     "output_type": "stream",
     "text": [
      "Dexterity_Unadj (0.15953756569609867, 0.003412842264311306) (0.20512938757542468, 0.00015636803614303384)\n"
     ]
    },
    {
     "name": "stderr",
     "output_type": "stream",
     "text": [
      " 86%|████████▌ | 54/63 [22:34<03:59, 26.59s/it]"
     ]
    },
    {
     "name": "stdout",
     "output_type": "stream",
     "text": [
      "Strength_Unadj (0.4109922045108264, 4.3792440143589186e-15) (0.3956880884983418, 5.2912774971137275e-14)\n"
     ]
    },
    {
     "name": "stderr",
     "output_type": "stream",
     "text": [
      " 87%|████████▋ | 55/63 [22:58<03:27, 25.91s/it]"
     ]
    },
    {
     "name": "stdout",
     "output_type": "stream",
     "text": [
      "NEOFAC_A (0.20088338356347324, 0.0002149028500555778) (0.14855312958725023, 0.006450910696937913)\n"
     ]
    },
    {
     "name": "stderr",
     "output_type": "stream",
     "text": [
      " 89%|████████▉ | 56/63 [23:23<02:59, 25.59s/it]"
     ]
    },
    {
     "name": "stdout",
     "output_type": "stream",
     "text": [
      "NEOFAC_O (0.1120359601736028, 0.040424342049706775) (0.16342337231218143, 0.00269843632076848)\n"
     ]
    },
    {
     "name": "stderr",
     "output_type": "stream",
     "text": [
      " 90%|█████████ | 57/63 [23:46<02:29, 24.84s/it]"
     ]
    },
    {
     "name": "stdout",
     "output_type": "stream",
     "text": [
      "NEOFAC_C (0.0929481014689689, 0.08940408246879593) (0.05695493183757209, 0.2986215725709149)\n"
     ]
    },
    {
     "name": "stderr",
     "output_type": "stream",
     "text": [
      " 92%|█████████▏| 58/63 [24:09<02:00, 24.10s/it]"
     ]
    },
    {
     "name": "stdout",
     "output_type": "stream",
     "text": [
      "NEOFAC_N (-0.2041228363291827, 0.00016870939193565127) (-0.1066495548915864, 0.05114313771317206)\n"
     ]
    },
    {
     "name": "stderr",
     "output_type": "stream",
     "text": [
      " 94%|█████████▎| 59/63 [24:34<01:37, 24.33s/it]"
     ]
    },
    {
     "name": "stdout",
     "output_type": "stream",
     "text": [
      "NEOFAC_E (0.11605004407418551, 0.03372835673381547) (0.16235319283228355, 0.002880215090193266)\n"
     ]
    },
    {
     "name": "stderr",
     "output_type": "stream",
     "text": [
      " 95%|█████████▌| 60/63 [24:57<01:12, 24.11s/it]"
     ]
    },
    {
     "name": "stdout",
     "output_type": "stream",
     "text": [
      "Odor_Unadj (-0.020847432845633774, 0.7038075186229508) (0.08048886600315099, 0.14154340448635377)\n"
     ]
    },
    {
     "name": "stderr",
     "output_type": "stream",
     "text": [
      " 97%|█████████▋| 61/63 [25:21<00:47, 23.99s/it]"
     ]
    },
    {
     "name": "stdout",
     "output_type": "stream",
     "text": [
      "PainInterf_Tscore (0.08846855221989644, 0.10601677023848013) (0.07240922805019852, 0.18613856840962117)\n"
     ]
    },
    {
     "name": "stderr",
     "output_type": "stream",
     "text": [
      " 98%|█████████▊| 62/63 [25:45<00:24, 24.16s/it]"
     ]
    },
    {
     "name": "stdout",
     "output_type": "stream",
     "text": [
      "Taste_Unadj (0.03587570566617714, 0.5128608470858929) (0.025048282950394712, 0.647802639156199)\n"
     ]
    },
    {
     "name": "stderr",
     "output_type": "stream",
     "text": [
      "100%|██████████| 63/63 [26:09<00:00, 24.92s/it]"
     ]
    },
    {
     "name": "stdout",
     "output_type": "stream",
     "text": [
      "Mars_Final (-0.014922991096597059, 0.7855221999704022) (-0.05251817048804435, 0.33790699436410415)\n"
     ]
    },
    {
     "name": "stderr",
     "output_type": "stream",
     "text": [
      "\n"
     ]
    }
   ],
   "source": [
    "beh_cpm_10 = {}\n",
    "\n",
    "CPM_FC_10 = CPM_TOTAL.CPM(10,subjlist,\"Ridge\")\n",
    "\n",
    "for beh in tqdm(beh_list.columns[3:]):\n",
    "    predict_pheno_p,predict_pheno_n, ratio_p, ratio_n=CPM_FC_10.train(fc_list,beh_list[beh],0.01)\n",
    "    \n",
    "    true_behavior = np.array([float(i) for i in beh_list[beh]])\n",
    "    \n",
    "    pearson_p = stats.pearsonr(predict_pheno_p[0], true_behavior)\n",
    "    pearson_n = stats.pearsonr(predict_pheno_n[0], true_behavior)\n",
    "    \n",
    "    print(beh, pearson_p,pearson_n)\n",
    "    beh_cpm_10[beh] = [pearson_p, pearson_n, np.mean(ratio_p),np.mean(ratio_n)]\n",
    "    \n",
    "    "
   ]
  },
  {
   "cell_type": "markdown",
   "metadata": {},
   "source": [
    "# Sklearn"
   ]
  },
  {
   "cell_type": "code",
   "execution_count": 29,
   "metadata": {},
   "outputs": [],
   "source": [
    "pct = 0.1 # percent of edges kept in feature selection\n",
    "alphas = 10**np.linspace(10,-2,100)*0.5 # specify alphas to search"
   ]
  },
  {
   "cell_type": "code",
   "execution_count": 30,
   "metadata": {},
   "outputs": [
    {
     "name": "stderr",
     "output_type": "stream",
     "text": [
      "/home/munj/anaconda3/lib/python3.8/site-packages/sklearn/model_selection/_split.py:293: FutureWarning: Setting a random_state has no effect since shuffle is False. This will raise an error in 0.24. You should leave random_state to its default (None), or set shuffle=True.\n",
      "  warnings.warn(\n"
     ]
    }
   ],
   "source": [
    "rg_grid = GridSearchCV(Ridge(normalize=False), cv=10, param_grid={'alpha':alphas}, iid=False)\n",
    "\n",
    "reg = Pipeline([\n",
    "  ('feature_selection', SelectPercentile(f_regression, percentile=pct)),\n",
    "  ('regression', rg_grid)\n",
    "])\n",
    "\n",
    "cv10 = KFold(n_splits=10, random_state=665)\n",
    "\n",
    "cv5 = KFold(n_splits=5, random_state=665)\n",
    "# rpcv10 = RepeatedKFold(n_splits=3,n_repeats=3, random_state=665) # repeated kfolds"
   ]
  },
  {
   "cell_type": "code",
   "execution_count": 31,
   "metadata": {},
   "outputs": [
    {
     "name": "stdout",
     "output_type": "stream",
     "text": [
      "25.572531700134277\n"
     ]
    }
   ],
   "source": [
    "start = time.time() # time the function\n",
    "all_pred = cross_val_predict(reg, fc_list, beh_list['PMAT24_A_CR'], cv=cv10, n_jobs=4)\n",
    "# all_score = cross_val_score(reg, all_edges.T, all_behav, cv=rpcv10, n_jobs=1) # repeated kfolds\n",
    "end = time.time()\n",
    "print(end - start) # print function running time"
   ]
  },
  {
   "cell_type": "code",
   "execution_count": 32,
   "metadata": {},
   "outputs": [
    {
     "name": "stdout",
     "output_type": "stream",
     "text": [
      "0.18788070988099767\n"
     ]
    }
   ],
   "source": [
    "print(np.corrcoef(all_pred.T,  beh_list['PMAT24_A_CR'])[0, 1])"
   ]
  },
  {
   "cell_type": "code",
   "execution_count": 37,
   "metadata": {},
   "outputs": [],
   "source": [
    "import matplotlib.pyplot as plt"
   ]
  },
  {
   "cell_type": "markdown",
   "metadata": {},
   "source": [
    "# Visualize"
   ]
  },
  {
   "cell_type": "code",
   "execution_count": 80,
   "metadata": {},
   "outputs": [
    {
     "data": {
      "image/png": "[encoded data removed]",
      "text/plain": [
       "<Figure size 3600x1440 with 1 Axes>"
      ]
     },
     "metadata": {
      "needs_background": "light"
     },
     "output_type": "display_data"
    }
   ],
   "source": [
    "plt.figure(figsize=(50,20))\n",
    "b_pos = []\n",
    "b_neg = []\n",
    "for beh in beh_list.columns[3:]:\n",
    "    b_pos.append(beh_cpm[beh][0][0])\n",
    "    b_neg.append(beh_cpm[beh][1][0])\n",
    "    \n",
    "plt.bar(beh_list.columns[3:],b_pos)\n",
    "plt.xticks(rotation=45, ha='right',size=20)\n",
    "plt.title(\"Ridge:CV5\",size=50)\n",
    "plt.show()\n",
    "\n",
    "    "
   ]
  },
  {
   "cell_type": "code",
   "execution_count": null,
   "metadata": {},
   "outputs": [],
   "source": []
  },
  {
   "cell_type": "code",
   "execution_count": null,
   "metadata": {},
   "outputs": [],
   "source": []
  },
  {
   "cell_type": "code",
   "execution_count": 81,
   "metadata": {},
   "outputs": [
    {
     "data": {
      "image/png": "[encoded data removed]",
      "text/plain": [
       "<Figure size 3600x1440 with 1 Axes>"
      ]
     },
     "metadata": {
      "needs_background": "light"
     },
     "output_type": "display_data"
    }
   ],
   "source": [
    "plt.figure(figsize=(50,20))\n",
    "b_pos = []\n",
    "b_neg = []\n",
    "for beh in beh_list.columns[3:]:\n",
    "    b_pos.append(beh_cpm_10[beh][0][0])\n",
    "    b_neg.append(beh_cpm_10[beh][1][0])\n",
    "    \n",
    "plt.bar(beh_list.columns[3:],b_pos)\n",
    "plt.xticks(rotation=45, ha='right',size=20)\n",
    "plt.title(\"Ridge:CV10\",size=50)\n",
    "plt.show()\n",
    "\n",
    "    "
   ]
  },
  {
   "cell_type": "code",
   "execution_count": 84,
   "metadata": {},
   "outputs": [
    {
     "data": {
      "image/png": "[encoded data removed]",
      "text/plain": [
       "<Figure size 3600x1440 with 1 Axes>"
      ]
     },
     "metadata": {
      "needs_background": "light"
     },
     "output_type": "display_data"
    }
   ],
   "source": [
    "plt.figure(figsize=(50,20))\n",
    "b_pos = []\n",
    "b_neg = []\n",
    "for beh in beh_list.columns[3:]:\n",
    "    b_pos.append(beh_cpm_lasso[beh][0][0])\n",
    "    b_neg.append(beh_cpm_lasso[beh][1][0])\n",
    "    \n",
    "plt.bar(beh_list.columns[3:],b_pos)\n",
    "plt.xticks(rotation=45, ha='right',size=20)\n",
    "#plt.spines['top'].set_visible(False)\n",
    "plt.title(\"Lasso:CV5\",size=50)\n",
    "plt.show()\n",
    "\n",
    "    "
   ]
  },
  {
   "cell_type": "code",
   "execution_count": null,
   "metadata": {},
   "outputs": [],
   "source": []
  },
  {
   "cell_type": "markdown",
   "metadata": {},
   "source": [
    "# Visualize"
   ]
  },
  {
   "cell_type": "code",
   "execution_count": null,
   "metadata": {},
   "outputs": [],
   "source": []
  },
  {
   "cell_type": "code",
   "execution_count": 23,
   "metadata": {},
   "outputs": [],
   "source": [
    "import matplotlib.pyplot as plt"
   ]
  },
  {
   "cell_type": "code",
   "execution_count": 49,
   "metadata": {},
   "outputs": [
    {
     "data": {
      "text/plain": [
       "[<matplotlib.lines.Line2D at 0x7f23f560eac0>,\n",
       " <matplotlib.lines.Line2D at 0x7f23f560e220>]"
      ]
     },
     "execution_count": 49,
     "metadata": {},
     "output_type": "execute_result"
    },
    {
     "data": {
      "image/png": "[encoded data removed]",
      "text/plain": [
       "<Figure size 432x288 with 1 Axes>"
      ]
     },
     "metadata": {
      "needs_background": "light"
     },
     "output_type": "display_data"
    }
   ],
   "source": [
    "plt.plot(range(len(all_pred)),all_pred,'r',range(len(all_pred)),pheno)"
   ]
  },
  {
   "cell_type": "markdown",
   "metadata": {},
   "source": [
    "# Backup test code"
   ]
  },
  {
   "cell_type": "markdown",
   "metadata": {},
   "source": [
    "specify cv index for test only (optional)"
   ]
  },
  {
   "cell_type": "code",
   "execution_count": null,
   "metadata": {
    "collapsed": false,
    "jupyter": {
     "outputs_hidden": false
    }
   },
   "outputs": [],
   "source": [
    "# cv_idx=[5,9,1,2,7,7,4,7,1,2,4,3,5,7,4,3,1,8,7,2,7,3,9,6,7,6,3,2,6,1,4,5,6,4,3,2,8,5,3,4,4,9,4,7,2,1,6,2,1,5,4,4,2,9,5,1,9,3,2,7,7,4,7,2,10,9,3,4,6,3,5,10,9,8,7,10,6,1,5,7,4,7,3,3,1,1,9,5,2,4,2,3,4,3,1,2,2,10,10,2,8,6,9,3,7,5,3,3,10,4,4,3,2,6,7,2,1,10,8,6,5,9,8,3,2,8,9,8,2,3,7,7,4,10,6,2,10,7,10,10,3,10,3,8,1,10,6,2,10,8,4,9,7,10,6,6,9,7,5,6,7,10,6,6,2,5,9,6,3,4,8,7,2,9,9,5,8,10,1,3,4,2,7,8,1,7,4,8,5,9,3,10,10,3,3,8,5,7,9,8,8,10,3,8,3,1,5,4,4,5,4,8,7,8,7,1,7,6,2,7,10,9,1,6,1,8,4,4,5,3,10,10,1,5,10,8,10,4,5,2,9,8,8,5,2,6,3,6,1,10,4,1,9,6,9,8,5,1,4,3,8,1,2,6,6,1,3,5,7,10,9,6,4,9,4,7,9,10,2,3,8,10,1,1,7,6,1,9,10,9,8,9,1,6,6,2,1,1,8,8,9,4,1,6,5,9,9,10,5,1,1,10,4,7,6,9,5,3,7,6,1,6,10,8,4,5,2,2,3,6,2,3,3,5,10,1,5,7,9,7,10,2,3,5,7,1,6,9,1,9,10,3,5,5,1,9,1,5,9,7,7,3,6,5,8,9,7,4,7,6,8,2,8,8,5,10,3,6,8,8,5,10,2,1,10,1,1,4,9,4,4,1,8,1,8,2,3,5,2,1,7,8,9,5,10,8,8,10,10,5,4,4,9,2,3,6,2,7,6,3,7,7,9,4,9,10,6,8,5,8,9,6,4,9,5,4,1,6,7,2,4,2,2,9,7,8,9,8,9,5,1,10,7,4,4,10,10,5,8,8,6,2,6,1,8,1,10,4,3,6,3,10,3,10,10,4,2,9,5,8,1,5,5,3,10,5,2,2,4,2,9,3,6,5,8,8,3,7,3,6,6,4,7,3,5,2,6,2,4,10,6,9,2,5,1]\n",
    "# cv_idx = [temp-1 for temp in cv_idx]\n",
    "# ps = PredefinedSplit(cv_idx)"
   ]
  },
  {
   "cell_type": "code",
   "execution_count": null,
   "metadata": {},
   "outputs": [],
   "source": [
    "# Predict various behavioral phenotype using Functional Connectivity"
   ]
  }
 ],
 "metadata": {
  "kernelspec": {
   "display_name": "Python 3",
   "language": "python",
   "name": "python3"
  },
  "language_info": {
   "codemirror_mode": {
    "name": "ipython",
    "version": 3
   },
   "file_extension": ".py",
   "mimetype": "text/x-python",
   "name": "python",
   "nbconvert_exporter": "python",
   "pygments_lexer": "ipython3",
   "version": "3.8.5"
  }
 },
 "nbformat": 4,
 "nbformat_minor": 4
}
